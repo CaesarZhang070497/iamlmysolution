{
 "cells": [
  {
   "cell_type": "markdown",
   "metadata": {
    "collapsed": true
   },
   "source": [
    "# Introductory applied machine learning (INFR10069)"
   ]
  },
  {
   "cell_type": "markdown",
   "metadata": {},
   "source": "<div align=\"right\"><font color=\"blue\" size=\"5\">Your Score was 75.0 out of a total of 95.0, or 78.9%</font></div>"
  },
  {
   "cell_type": "markdown",
   "metadata": {},
   "source": [
    "# Assignment 1: Data analysis and visualisation"
   ]
  },
  {
   "cell_type": "markdown",
   "metadata": {},
   "source": [
    "## Important Instructions\n",
    "\n",
    "**It is important that you follow the instructions below to the letter - we will not be responsible for incorrect marking due to non-standard practices.**\n",
    "\n",
    "1. You *MUST* have your environment set up as in the [README](https://github.com/michael-camilleri/IAML2018) and you *must activate this environment before running this notebook*:\n",
    "```\n",
    "source activate py3iaml\n",
    "cd [DIRECTORY CONTAINING GIT REPOSITORY]\n",
    "jupyter notebook\n",
    "# Navigate to this file\n",
    "```\n",
    "\n",
    "1. Read the instructions carefully, especially where asked to name variables with a specific name. Wherever you are required to produce code you should use code cells, otherwise you should use markdown cells to report results and explain answers. In most cases we indicate the nature of answer we are expecting (code/text), and also provide the code/markdown cell where to put it\n",
    "\n",
    "1. There are some questions which are **specific to those taking the Level-11 version** of the course (INFR11182 and INFR11152). These are clearly marked with the words **(LEVEL 11)** and must be completed by those taking the Level 11 course. Those on the Level 10 version (INFR10069) may (and are advised to) attempt such questions but this will not affect their mark in any way, nor will they get feedback on them.\n",
    "\n",
    "1. The .csv files that you will be using are located at `./datasets` (i.e. use the `datasets` directory **adjacent** to this file).\n",
    "\n",
    "1. Keep your answers brief and concise. Most written questions can be answered with 2-3 lines of explanation.\n",
    "\n",
    "1. Make sure to show **all** your code/working. \n",
    "\n",
    "1. Write readable code. While we do not expect you to follow [PEP8](https://www.python.org/dev/peps/pep-0008/) to the letter, the code should be adequately understandable, with plots/visualisations correctly labelled. **Do** use inline comments when doing something non-standard. When asked to present numerical values, make sure to represent real numbers in the appropriate precision to exemplify your answer. Marks *WILL* be deducted if the marker cannot understand your logic/results.\n",
    "\n",
    "1. **Collaboration:** You may discuss the assignment with your colleagues, provided that the writing that you submit is entirely your own. That is, you should NOT borrow actual text or code from other students. We ask that you provide a list of the people who you've had discussions with (if any).\n",
    "\n",
    "### SUBMISSION Mechanics\n",
    "\n",
    "**IMPORTANT:** You must submit this assignment by **Thursday 18/10/2018 at 16:00**. \n",
    "\n",
    "**Late submissions:** The policy stated in the School of Informatics is that normally you will not be allowed to submit coursework late. See the [ITO webpage](http://web.inf.ed.ac.uk/infweb/student-services/ito/admin/coursework-projects/late-coursework-extension-requests) for exceptions to this, e.g. in case of serious medical illness or serious personal problems.\n",
    "\n",
    "**Resubmission:** If you submit your file again, the previous submission is **overwritten**. We will mark the version that is in the submission folder at the deadline.\n",
    "\n",
    "All submissions happen electronically. To submit:\n",
    "\n",
    "1. Fill out this notebook, and save it, making sure to **KEEP the name of the file UNCHANGED**.\n",
    "\n",
    "1. On a DICE environment, open the terminal, navigate to the location of this notebook, and submit this notebook file using the following command:\n",
    "\n",
    "  ```submit iaml cw1 \"01_Analysis.ipynb\"```\n",
    "\n",
    "  What actually happens in the background is that your file is placed in a folder available to markers. If you submit a file with the same name into the same location, **it will *overwrite* your previous submission**. You can check the status of your submissions with the `show_submissions` command.\n",
    "  \n",
    "1. **Distance Learners:** To copy your work onto DICE (so that you can use the `submit` command) you can use `scp` or `rsync` (you may need to install these yourself). You can copy files to `student.ssh.inf.ed.ac.uk`, then ssh into it in order to submit. The following is an example (replace entries in `[square brackets]` with your specific details):\n",
    "```\n",
    "filename=\"01_Analysis.ipynb\"\n",
    "local_scp_filepath=[DIRECTORY CONTAINING GIT REPOSITORY]${filename}\n",
    "server_address=student.ssh.inf.ed.ac.uk\n",
    "scp -r ${local_scp_filepath} [YOUR USERNAME]@${server_address}:${filename}\n",
    "# rsync -rl ${local_scp_filepath} [YOUR USERNAME]@${server_address}:${filename}\n",
    "ssh [YOUR USERNAME]@${server_address}\n",
    "ssh student.login\n",
    "submit iaml cw1 \"01_Analysis.ipynb\"\n",
    "```\n",
    "\n",
    "### Marking Breakdown\n",
    "\n",
    "The Level 10 and Level 11 points are marked out of different totals, however these are all normalised to 100%.\n",
    "\n",
    "**70-100%** results/answer correct plus extra achievement at understanding or analysis of results. Clear explanations, evidence of creative or deeper thought will contribute to a higher grade.\n",
    "\n",
    "**60-69%** results/answer correct or nearly correct and well explained.\n",
    "\n",
    "**50-59%** results/answer in right direction but significant errors.\n",
    "\n",
    "**40-49%** some evidence that the student has gained some understanding, but not answered the questions\n",
    "properly.\n",
    "\n",
    "**0-39%** serious error or slack work.\n",
    "\n",
    "Note that while this is not a programming assignment, in questions which involve visualisation of results and/or long cold snippets, some marks may be deducted if the code is not adequately readable."
   ]
  },
  {
   "cell_type": "markdown",
   "metadata": {},
   "source": [
    "## Imports\n",
    "\n",
    "Execute the cell below to import all packages you will be using in the rest of the assignemnt."
   ]
  },
  {
   "cell_type": "code",
   "execution_count": 1,
   "metadata": {},
   "outputs": [
    {
     "name": "stderr",
     "output_type": "stream",
     "text": [
      "/afs/inf.ed.ac.uk/user/s16/s1688201/miniconda3/envs/py3iaml/lib/python3.7/site-packages/sklearn/utils/__init__.py:4: DeprecationWarning: Using or importing the ABCs from 'collections' instead of from 'collections.abc' is deprecated, and in 3.8 it will stop working\n",
      "  from collections import Sequence\n"
     ]
    }
   ],
   "source": [
    "%matplotlib inline\n",
    "\n",
    "import os\n",
    "import sys\n",
    "import sklearn\n",
    "import numpy as np\n",
    "import pandas as pd\n",
    "import matplotlib.pyplot as plt\n",
    "import seaborn as sns\n",
    "from sklearn.metrics import accuracy_score\n",
    "from sklearn.naive_bayes import GaussianNB\n",
    "from sklearn.metrics import confusion_matrix\n",
    "\n",
    "sys.path.append('..')\n",
    "from utils.plotter import scatter_jitter, plot_confusion_matrix"
   ]
  },
  {
   "cell_type": "markdown",
   "metadata": {},
   "source": [
    "## Description of the dataset\n",
    "\n",
    "This assignment is based on the 20 Newsgroups Dataset. This dataset is a collection of approximately 20,000 newsgroup documents, partitioned (nearly) evenly across 20 different newsgroups, each corresponding to a different topic. Some of the newsgroups are very closely related to each other (e.g. comp.sys.ibm.pc.hardware, comp.sys.mac.hardware), while others are highly unrelated (e.g misc.forsale, soc.religion.christian). \n",
    "\n",
    "There are three versions of the 20 Newsgroups Dataset. In this assignment we will use the `bydate` matlab version in which documents are sorted by date into training (60%) and test (40%) sets, newsgroup-identifying headers are dropped and duplicates are removed. This collection comprises roughly 61,000 different words, which results in a bag-of-words representation with frequency counts. More specifically, each document is represented by a 61,000 dimensional vector that contains the counts for each of the 61,000 different words present in the respective document. \n",
    "\n",
    "To save you time and to make the problem manageable with limited computational resources, we preprocessed the original dataset. We will use documents from only 5 out of the 20 newsgroups, which results in a 5-class problem. The class is conveniently stored in the `class` column. More specifically the 5 classes correspond to the following newsgroups: \n",
    "1. `alt.atheism`\n",
    "2. `comp.sys.ibm.pc.hardware`\n",
    "3. `comp.sys.mac.hardware`\n",
    "4. `rec.sport.baseball`\n",
    "5. `rec.sport.hockey `\n",
    "\n",
    "However, note here that classes 2-3 and 4-5 are rather closely related. Additionally, we computed the [mutual information](https://en.wikipedia.org/wiki/Mutual_information) of each word with the class attribute and selected the some words out of 61,000 that had highest mutual information. For very sophisticated technical reasons (which you should know!) 1 was added to all the word counts in part 1. The resulting representation is much more compact and can be used directly to perform our experiments in Python.\n",
    "\n",
    "**Hint**: The data was preprocessed by a very busy PhD student... and hence should never be taken to be perfect at face value!"
   ]
  },
  {
   "cell_type": "markdown",
   "metadata": {},
   "source": [
    "## 1. Exploration of the dataset"
   ]
  },
  {
   "cell_type": "markdown",
   "metadata": {},
   "source": [
    "Your first task is to get a feel for the data that you will be dealing with in the rest of the assignment."
   ]
  },
  {
   "cell_type": "markdown",
   "metadata": {},
   "source": [
    "### ========== Question 1.1 --- [10 marks] ==========\n",
    "\n",
    "1. [Code] Load the dataset `raw_20news.csv` into a data-frame called `news_raw`. Using pandas methods we learnt in class, extract some basic information about the data. \n",
    "\n",
    "1. [Text] In a short paragraph, summarise the key features of the dataset. *Hint: Look at what we did in the labs.*"
   ]
  },
  {
   "cell_type": "markdown",
   "metadata": {},
   "source": "<div align=\"right\"><font color=\"blue\" size=\"4\">4.0/10.0</font></div>"
  },
  {
   "cell_type": "code",
   "execution_count": 2,
   "metadata": {},
   "outputs": [
    {
     "name": "stdout",
     "output_type": "stream",
     "text": [
      "<class 'pandas.core.frame.DataFrame'>\n",
      "Int64Index: 2129 entries, 0 to 2256\n",
      "Columns: 521 entries, w1_aaa to class\n",
      "dtypes: int64(521)\n",
      "memory usage: 8.5 MB\n",
      "None\n"
     ]
    }
   ],
   "source": [
    "# (1) # Your Code goes here:\n",
    "data_path = os.path.join(os.getcwd(),'datasets','raw_20news.csv')\n",
    "news_raw = pd.read_csv(data_path,delimiter = ',')\n",
    "print(news_raw.info())\n",
    "#print(news_raw.head(5))\n",
    "#print(news_raw.describe())"
   ]
  },
  {
   "cell_type": "markdown",
   "metadata": {},
   "source": "<div align=\"right\"><font color=\"blue\" size=\"4\">1.0</font></div>"
  },
  {
   "cell_type": "markdown",
   "metadata": {},
   "source": [
    "(2) ***Your answer goes here:***\n",
    "\n",
    "The news_raw is a dataframe with 2129 rows and 521 columns. The indices of rows are between 0 to 2256. Every value of this dataframe is a 64-bit int.\n",
    "\n",
    "Each row is a data instance. Each data instance has 520 attributes and the last column are the class data instances belongs to. "
   ]
  },
  {
   "cell_type": "markdown",
   "metadata": {},
   "source": "<div align=\"right\"><font color=\"blue\" size=\"4\">3.0</font></div>"
  },
  {
   "cell_type": "markdown",
   "metadata": {},
   "source": [
    "### ========== Question 1.2 ---  [6 marks] ==========\n",
    "1. [Code] Display the names of some of the attributes in the training datset. \n",
    "1. [Text] Describe the output and comment (1 or 2 sentences) keeping in mind the selection procedure for the features."
   ]
  },
  {
   "cell_type": "markdown",
   "metadata": {},
   "source": "<div align=\"right\"><font color=\"blue\" size=\"4\">3.0/6.0</font></div>"
  },
  {
   "cell_type": "code",
   "execution_count": 3,
   "metadata": {},
   "outputs": [
    {
     "data": {
      "text/plain": [
       "Index(['w1_aaa', 'w2_pins', 'w3_kmr', 'w4_notion', 'w5_queens', 'w6_dwyer',\n",
       "       'w7_defenseman', 'w8_gld', 'w9_tocchet', 'w10_home', 'w11_buying',\n",
       "       'w12_internet', 'w13_slots', 'w14_compatible', 'w15_transfer',\n",
       "       'w16_baltimore', 'w17_mean', 'w18_person', 'w19_performance',\n",
       "       'w20_support', 'w21_tor', 'w22_gm', 'w23_mouse', 'w24_base',\n",
       "       'w25_population', 'w26_bob', 'w27_set', 'w28_it', 'w29_earth',\n",
       "       'w30_faith', 'w31_steve', 'w32_caps', 'w33_printer', 'w34_east',\n",
       "       'w35_cable', 'w36_adapter', 'w37_mss', 'w38_catcher', 'w39_bullpen',\n",
       "       'w40_obp', 'w41_innocent', 'w42_european', 'w43_angeles',\n",
       "       'w44_settings', 'w45_words', 'w46_rit', 'w47_shots', 'w48_ports',\n",
       "       'w49_vga', 'w50_coverage'],\n",
       "      dtype='object')"
      ]
     },
     "execution_count": 3,
     "metadata": {},
     "output_type": "execute_result"
    }
   ],
   "source": [
    "# (1) # Your Code goes here:\n",
    "news_raw.columns[0:50]"
   ]
  },
  {
   "cell_type": "markdown",
   "metadata": {},
   "source": "<div align=\"right\"><font color=\"blue\" size=\"4\">2.0</font></div>"
  },
  {
   "cell_type": "markdown",
   "metadata": {},
   "source": [
    "(2) ***Your answer goes here:***\n",
    "\n",
    "The output is a array of 50 objects. They are words appear in the newspaper."
   ]
  },
  {
   "cell_type": "markdown",
   "metadata": {},
   "source": "<div align=\"right\"><font color=\"blue\" size=\"4\">1.0</font></div>"
  },
  {
   "cell_type": "markdown",
   "metadata": {},
   "source": [
    "### ========== Question 1.3 --- [4 marks] ==========\n",
    "Familiarise yourself with the [`stripplot`](https://seaborn.github.io/generated/seaborn.stripplot.html?highlight=stripplot#seaborn.stripplot) function in `seaborn`. \n",
    "\n",
    "1. [Code] Pick one attribute of your choice (except `class`) and display a stripplot for that attribute for the raw dataset. Demonstrate the distribution of the data separately for each class (by making appropriate use of the `x` argument in `stripplot`). Set the `jitter` argument to `True` and the `alpha` argument to an appropriate value (to add transparency to better visualise your model). When the jitter parameter is enabled a small amount of noise is added to the data so that there is less overlap and the distribution is easier to visualise. \n",
    " ***N.B.*** *If for some reason, the alpha parameter does not work for you, then ignore it.*\n",
    "\n",
    "1. [Text] Mention anything peculiar you observe in the Data."
   ]
  },
  {
   "cell_type": "markdown",
   "metadata": {},
   "source": "<div align=\"right\"><font color=\"blue\" size=\"4\">4.0/4.0</font></div>"
  },
  {
   "cell_type": "code",
   "execution_count": 4,
   "metadata": {},
   "outputs": [
    {
     "data": {
      "text/plain": [
       "<matplotlib.axes._subplots.AxesSubplot at 0x7fc8c2973cf8>"
      ]
     },
     "execution_count": 4,
     "metadata": {},
     "output_type": "execute_result"
    },
    {
     "data": {
      "image/png": "[encoded data removed]",
      "text/plain": [
       "<Figure size 432x288 with 1 Axes>"
      ]
     },
     "metadata": {
      "needs_background": "light"
     },
     "output_type": "display_data"
    }
   ],
   "source": [
    "# (1) # Your Code goes here:\n",
    "sns.stripplot(y='w1_aaa', x = 'class', data = news_raw,jitter=True,alpha=.25)"
   ]
  },
  {
   "cell_type": "markdown",
   "metadata": {},
   "source": "<div align=\"right\"><font color=\"blue\" size=\"4\">2.0</font></div>"
  },
  {
   "cell_type": "markdown",
   "metadata": {},
   "source": [
    "(2) ***Your answer goes here:***\n",
    "\n",
    "w1_aaa's most occurence in all classes is below 100. But in each class, there are five or sixth outliers ranging from 100 to 600. "
   ]
  },
  {
   "cell_type": "markdown",
   "metadata": {},
   "source": "<div align=\"right\"><font color=\"blue\" size=\"4\">2.0</font></div>"
  },
  {
   "cell_type": "markdown",
   "metadata": {},
   "source": [
    "### ========== Question 1.4  --- [8 marks] ==========\n",
    "Let us analyse this further. The stripplot illustrates the distribution of a single attribute. We can also visualise the joint distribution of two variables by using a scatter plot. Again, we want to add a bit of jitter into the data so that is easier to see which parts of the space (2-dimensional in our case) have larger probability densities. For this, you will be using the function `scatter_jitter` from the `utils` library which we provided. This function takes as input two numpy arrays containing the features of interest. \n",
    "\n",
    "1. [Code] First, pick two attributes of your choice from dataset A and use the provided function to plot their joint distribution. Do this twice (i.e. pick 4 attributes and do plots between two pairs: you do not need to plot between each possible pair). You can play around with the amount of noise added by tweaking the `jitter` parameter. Alternatively, you can just use its default value which is set to 0.2. Label the axes appropriately.\n",
    "\n",
    "1. [Text] Do these plots increase or reduce the possibility of the data-set containing outliers? Why or why not? How would you visualise the data to verify this? **N.B. There is no need to code anything for this part, just indicate a reasonable type of plot, and what you expect to see.**"
   ]
  },
  {
   "cell_type": "markdown",
   "metadata": {},
   "source": "<div align=\"right\"><font color=\"blue\" size=\"4\">6.0/8.0</font></div>"
  },
  {
   "cell_type": "code",
   "execution_count": 5,
   "metadata": {},
   "outputs": [
    {
     "data": {
      "image/png": "[encoded data removed]",
      "text/plain": [
       "<Figure size 432x288 with 1 Axes>"
      ]
     },
     "metadata": {
      "needs_background": "light"
     },
     "output_type": "display_data"
    },
    {
     "data": {
      "image/png": "[encoded data removed]",
      "text/plain": [
       "<Figure size 432x288 with 1 Axes>"
      ]
     },
     "metadata": {
      "needs_background": "light"
     },
     "output_type": "display_data"
    }
   ],
   "source": [
    "# (1) # Your Code goes here:\n",
    "#plt.subplot(1,2,1)\n",
    "scatter_jitter(news_raw.w1_aaa,news_raw.w2_pins,jitter = 0.2)\n",
    "plt.xlabel('w1_aaa')\n",
    "plt.ylabel('w2_pins')\n",
    "plt.title('w1_aaa VS w2_pins')\n",
    "plt.show()\n",
    "#plt.subplot(1,2,2)\n",
    "scatter_jitter(news_raw.w10_home,news_raw.w20_support,jitter = 0.2)\n",
    "plt.xlabel('w10_home')\n",
    "plt.ylabel('w20_support')\n",
    "plt.title('w10_home VS w20_support')\n",
    "plt.show()"
   ]
  },
  {
   "cell_type": "markdown",
   "metadata": {},
   "source": "<div align=\"right\"><font color=\"blue\" size=\"4\">4.0</font></div>"
  },
  {
   "cell_type": "markdown",
   "metadata": {},
   "source": [
    "(2) ***Your answer goes here:***\n",
    "\n",
    "Reduce the possibllities. \n",
    "\n",
    "Because from this graph, human can see the data in a more straightforward way than computer and therefore can judge directly which points are outliers."
   ]
  },
  {
   "cell_type": "markdown",
   "metadata": {},
   "source": "<div align=\"right\"><font color=\"blue\" size=\"4\">2.0</font></div>"
  },
  {
   "cell_type": "markdown",
   "metadata": {},
   "source": [
    "### ========== Question 1.5 --- [15 marks] ==========\n",
    "We want to get rid of the potential outliers in the data. Your job now is to create a new dataset from `news_raw` (name it `news_clean`) and remove the outliers.\n",
    "\n",
    "1. [Text] Decide on a criterion to find the outliers and argue why it is reasonable. \n",
    "1. [Code] Then implement it and visualise the result (in terms of your criterion). **Be careful** not to alter the original dataset as we will need it later. \n",
    "1. [Text] Finally report the number of points in the cleaned dataset, and the number rejected as outliers and comment on the result"
   ]
  },
  {
   "cell_type": "markdown",
   "metadata": {},
   "source": "<div align=\"right\"><font color=\"blue\" size=\"4\">14.0/15.0</font></div>"
  },
  {
   "cell_type": "markdown",
   "metadata": {},
   "source": [
    "(1) ***Your answer goes here:***\n",
    "\n",
    "My decision is only keep the data points whose frequency is between 0 and 100. Because judging from the graph above, most data points are clustered in between 0 and 100. Besides, in reality, no words can appear in a email more than 100 times. And Mathematically, frequency must be greater than zero."
   ]
  },
  {
   "cell_type": "markdown",
   "metadata": {},
   "source": "<div align=\"right\"><font color=\"blue\" size=\"4\">4.0</font></div>"
  },
  {
   "cell_type": "code",
   "execution_count": 6,
   "metadata": {},
   "outputs": [
    {
     "name": "stdout",
     "output_type": "stream",
     "text": [
      "(2099, 521)\n"
     ]
    },
    {
     "data": {
      "text/plain": [
       "<matplotlib.axes._subplots.AxesSubplot at 0x7fc8c254ae48>"
      ]
     },
     "execution_count": 6,
     "metadata": {},
     "output_type": "execute_result"
    },
    {
     "data": {
      "image/png": "[encoded data removed]",
      "text/plain": [
       "<Figure size 432x288 with 1 Axes>"
      ]
     },
     "metadata": {
      "needs_background": "light"
     },
     "output_type": "display_data"
    }
   ],
   "source": [
    "# (2) # Your Code goes here:\n",
    "news_clean = news_raw.copy(deep= True)\n",
    "news_clean = news_clean[news_clean.w10_home<100]\n",
    "\n",
    "print(news_clean.shape)\n",
    "sns.stripplot(y='w1_aaa', x = 'class', data = news_clean,jitter=True,alpha=.25)"
   ]
  },
  {
   "cell_type": "markdown",
   "metadata": {},
   "source": "<div align=\"right\"><font color=\"blue\" size=\"4\">8.0</font></div>"
  },
  {
   "cell_type": "markdown",
   "metadata": {},
   "source": [
    "(3) ***Your answer goes here:***\n",
    "\n",
    "There are 2129 data instances in news_raw\n",
    "\n",
    "only 2099 of them are left.\n",
    "\n",
    "2129-2099 = 30\n",
    "\n",
    "therefore 30 points are rejected.\n",
    "\n",
    "This is in line with the graph, in which most of data is within 0 and 100 only a few data points are outside this range."
   ]
  },
  {
   "cell_type": "markdown",
   "metadata": {},
   "source": "<div align=\"right\"><font color=\"blue\" size=\"4\">2.0</font></div>"
  },
  {
   "cell_type": "markdown",
   "metadata": {},
   "source": [
    "# ========== Question 1.6 --- (LEVEL 11) --- [10 marks] ==========\n",
    "\n",
    "1. [Code] Visualise some of the outlier documents and some of the inlier ones. \n",
    "1. [Text] Comment on the observations. Also comment on whether it is appropriate to do such cleaning on just the training data or on the entire data-set (including testing)."
   ]
  },
  {
   "cell_type": "code",
   "execution_count": 7,
   "metadata": {},
   "outputs": [],
   "source": [
    "# (1) # Your Code goes here:"
   ]
  },
  {
   "cell_type": "markdown",
   "metadata": {},
   "source": [
    "(2) ***Your answer goes here:***"
   ]
  },
  {
   "cell_type": "markdown",
   "metadata": {},
   "source": [
    "## 2. Naive Bayes classification\n",
    "Now we want to fit a Gaussian Naive Bayes model to the cleaned dataset. You might want first to familiarise yourself with the [`GaussianNB`](http://scikit-learn.org/0.19/modules/generated/sklearn.naive_bayes.GaussianNB.html) class in `Sklearn`."
   ]
  },
  {
   "cell_type": "markdown",
   "metadata": {},
   "source": [
    "### ========== Question 2.1 --- [6 marks] ==========\n",
    "\n",
    "Load the cleaned datasets `train_20news.csv` and `test_20news.csv` into pandas dataframes `news_train` and `news_test` respectively. Using pandas summary methods, confirm that the data is similar in both sets."
   ]
  },
  {
   "cell_type": "markdown",
   "metadata": {},
   "source": "<div align=\"right\"><font color=\"blue\" size=\"4\">5.0/6.0</font></div>"
  },
  {
   "cell_type": "code",
   "execution_count": 8,
   "metadata": {},
   "outputs": [
    {
     "name": "stdout",
     "output_type": "stream",
     "text": [
      "(2099, 521)\n",
      "<class 'pandas.core.frame.DataFrame'>\n",
      "RangeIndex: 2099 entries, 0 to 2098\n",
      "Columns: 521 entries, w1_aaa to class\n",
      "dtypes: int64(521)\n",
      "memory usage: 8.3 MB\n",
      "None\n",
      "(128, 521)\n",
      "<class 'pandas.core.frame.DataFrame'>\n",
      "Int64Index: 128 entries, 1910 to 2037\n",
      "Columns: 521 entries, w1_aaa to class\n",
      "dtypes: int64(521)\n",
      "memory usage: 522.0 KB\n",
      "None\n",
      "           w1_aaa     w2_pins  w3_kmr  w4_notion   w5_queens    w6_dwyer  \\\n",
      "count  128.000000  128.000000   128.0      128.0  128.000000  128.000000   \n",
      "mean     1.007812    1.031250     1.0        1.0    1.007812    1.015625   \n",
      "std      0.088388    0.278847     0.0        0.0    0.088388    0.124507   \n",
      "min      1.000000    1.000000     1.0        1.0    1.000000    1.000000   \n",
      "25%      1.000000    1.000000     1.0        1.0    1.000000    1.000000   \n",
      "50%      1.000000    1.000000     1.0        1.0    1.000000    1.000000   \n",
      "75%      1.000000    1.000000     1.0        1.0    1.000000    1.000000   \n",
      "max      2.000000    4.000000     1.0        1.0    2.000000    2.000000   \n",
      "\n",
      "       w7_defenseman      w8_gld  w9_tocchet    w10_home     ...      \\\n",
      "count     128.000000  128.000000  128.000000  128.000000     ...       \n",
      "mean        1.007812    1.039062    1.015625    1.085938     ...       \n",
      "std         0.088388    0.291678    0.124507    0.281373     ...       \n",
      "min         1.000000    1.000000    1.000000    1.000000     ...       \n",
      "25%         1.000000    1.000000    1.000000    1.000000     ...       \n",
      "50%         1.000000    1.000000    1.000000    1.000000     ...       \n",
      "75%         1.000000    1.000000    1.000000    1.000000     ...       \n",
      "max         2.000000    4.000000    2.000000    2.000000     ...       \n",
      "\n",
      "       w512_constantly  w513_generate  w514_definite  w515_lacks  \\\n",
      "count       128.000000     128.000000     128.000000  128.000000   \n",
      "mean          4.757812       4.351562       4.593750    4.445312   \n",
      "std           2.201453       2.175706       2.438011    2.387001   \n",
      "min           1.000000       1.000000       1.000000    1.000000   \n",
      "25%           3.000000       3.000000       2.000000    2.000000   \n",
      "50%           5.000000       4.000000       5.000000    4.000000   \n",
      "75%           7.000000       6.000000       7.000000    7.000000   \n",
      "max           8.000000       8.000000       8.000000    8.000000   \n",
      "\n",
      "       w516_combination  w517_sitting  w518_surface  w519_fashion    w520_sit  \\\n",
      "count         128.00000    128.000000    128.000000    128.000000  128.000000   \n",
      "mean            4.53125      4.453125      4.687500      4.421875    4.531250   \n",
      "std             2.31373      2.383868      2.390104      2.285212    2.370878   \n",
      "min             1.00000      1.000000      1.000000      1.000000    1.000000   \n",
      "25%             2.75000      2.000000      2.750000      2.000000    2.000000   \n",
      "50%             4.00000      5.000000      5.000000      4.000000    5.000000   \n",
      "75%             6.25000      7.000000      7.000000      6.000000    7.000000   \n",
      "max             8.00000      8.000000      8.000000      8.000000    8.000000   \n",
      "\n",
      "            class  \n",
      "count  128.000000  \n",
      "mean     3.078125  \n",
      "std      1.400840  \n",
      "min      1.000000  \n",
      "25%      2.000000  \n",
      "50%      3.000000  \n",
      "75%      4.000000  \n",
      "max      5.000000  \n",
      "\n",
      "[8 rows x 521 columns]\n",
      "           w1_aaa     w2_pins  w3_kmr  w4_notion   w5_queens    w6_dwyer  \\\n",
      "count  128.000000  128.000000   128.0      128.0  128.000000  128.000000   \n",
      "mean     1.007812    1.031250     1.0        1.0    1.007812    1.015625   \n",
      "std      0.088388    0.278847     0.0        0.0    0.088388    0.124507   \n",
      "min      1.000000    1.000000     1.0        1.0    1.000000    1.000000   \n",
      "25%      1.000000    1.000000     1.0        1.0    1.000000    1.000000   \n",
      "50%      1.000000    1.000000     1.0        1.0    1.000000    1.000000   \n",
      "75%      1.000000    1.000000     1.0        1.0    1.000000    1.000000   \n",
      "max      2.000000    4.000000     1.0        1.0    2.000000    2.000000   \n",
      "\n",
      "       w7_defenseman      w8_gld  w9_tocchet    w10_home     ...      \\\n",
      "count     128.000000  128.000000  128.000000  128.000000     ...       \n",
      "mean        1.007812    1.039062    1.015625    1.085938     ...       \n",
      "std         0.088388    0.291678    0.124507    0.281373     ...       \n",
      "min         1.000000    1.000000    1.000000    1.000000     ...       \n",
      "25%         1.000000    1.000000    1.000000    1.000000     ...       \n",
      "50%         1.000000    1.000000    1.000000    1.000000     ...       \n",
      "75%         1.000000    1.000000    1.000000    1.000000     ...       \n",
      "max         2.000000    4.000000    2.000000    2.000000     ...       \n",
      "\n",
      "       w512_constantly  w513_generate  w514_definite  w515_lacks  \\\n",
      "count       128.000000     128.000000     128.000000  128.000000   \n",
      "mean          4.757812       4.351562       4.593750    4.445312   \n",
      "std           2.201453       2.175706       2.438011    2.387001   \n",
      "min           1.000000       1.000000       1.000000    1.000000   \n",
      "25%           3.000000       3.000000       2.000000    2.000000   \n",
      "50%           5.000000       4.000000       5.000000    4.000000   \n",
      "75%           7.000000       6.000000       7.000000    7.000000   \n",
      "max           8.000000       8.000000       8.000000    8.000000   \n",
      "\n",
      "       w516_combination  w517_sitting  w518_surface  w519_fashion    w520_sit  \\\n",
      "count         128.00000    128.000000    128.000000    128.000000  128.000000   \n",
      "mean            4.53125      4.453125      4.687500      4.421875    4.531250   \n",
      "std             2.31373      2.383868      2.390104      2.285212    2.370878   \n",
      "min             1.00000      1.000000      1.000000      1.000000    1.000000   \n",
      "25%             2.75000      2.000000      2.750000      2.000000    2.000000   \n",
      "50%             4.00000      5.000000      5.000000      4.000000    5.000000   \n",
      "75%             6.25000      7.000000      7.000000      6.000000    7.000000   \n",
      "max             8.00000      8.000000      8.000000      8.000000    8.000000   \n",
      "\n",
      "            class  \n",
      "count  128.000000  \n",
      "mean     3.078125  \n",
      "std      1.400840  \n",
      "min      1.000000  \n",
      "25%      2.000000  \n",
      "50%      3.000000  \n",
      "75%      4.000000  \n",
      "max      5.000000  \n",
      "\n",
      "[8 rows x 521 columns]\n"
     ]
    }
   ],
   "source": [
    "# Your Code goes here:\n",
    "cpu_loc = os.path.join(os.getcwd(), 'datasets', 'train_20news.csv')\n",
    "news_train = pd.read_csv(cpu_loc)\n",
    "print(news_train.shape)\n",
    "print(news_train.info())\n",
    "cpu_loc = os.path.join(os.getcwd(), 'datasets', 'test_20news.csv')\n",
    "news_test = pd.read_csv(cpu_loc)\n",
    "print(news_test.shape)\n",
    "print(news_test.info())\n",
    "\n",
    "print(news_test.describe())\n",
    "print(news_test.describe())"
   ]
  },
  {
   "cell_type": "markdown",
   "metadata": {},
   "source": "<div align=\"right\"><font color=\"blue\" size=\"4\">5.0</font></div>"
  },
  {
   "cell_type": "markdown",
   "metadata": {},
   "source": [
    "### ========== Question 2.2 --- [4 marks] ==========\n",
    "\n",
    "[Text] Answer (in brief) the following two questions:\n",
    "1. What is the assumption behing the Naive Bayes Model?\n",
    "1. What would be the main issue we would have to face if we didn't make this assumption?"
   ]
  },
  {
   "cell_type": "markdown",
   "metadata": {},
   "source": "<div align=\"right\"><font color=\"blue\" size=\"4\">4.0/4.0</font></div>"
  },
  {
   "cell_type": "markdown",
   "metadata": {},
   "source": [
    "(1/2) ***Your answer goes here:***\n",
    "\n",
    "1. Each attribute is conditionally independent. A Naive Bayes classifier assumes that the presence of a particular feature in a class is unrelated to the presence of any other feature.\n",
    "\n",
    "2. Given that we assume independence, we can calculate the probability of a data point by multipling the probability of each of its attribute. Without this assumption, we need to estimate the probability by calculating a 520-dimensional covariance matrix. "
   ]
  },
  {
   "cell_type": "markdown",
   "metadata": {},
   "source": "<div align=\"right\"><font color=\"blue\" size=\"4\">4.0</font></div>"
  },
  {
   "cell_type": "markdown",
   "metadata": {},
   "source": [
    "### ========== Question 2.3 --- [8 marks] ==========\n",
    "\n",
    "1. [Code] By using the `scatter_jitter` function, display a scatter plot of the features `w281_ico` and `w273_tek` for the **cleaned** dataset A. Set the jitter value to an appropriate value for visualisation. Label axes appropriately.\n",
    "1. [Text] What do you observe about these two features? Does this impact the validity of the Naive Bayes assumption? Why or why not?"
   ]
  },
  {
   "cell_type": "markdown",
   "metadata": {},
   "source": "<div align=\"right\"><font color=\"blue\" size=\"4\">8.0/8.0</font></div>"
  },
  {
   "cell_type": "code",
   "execution_count": 9,
   "metadata": {},
   "outputs": [
    {
     "data": {
      "text/plain": [
       "Text(0,0.5,'w273_tek')"
      ]
     },
     "execution_count": 9,
     "metadata": {},
     "output_type": "execute_result"
    },
    {
     "data": {
      "image/png": "[encoded data removed]",
      "text/plain": [
       "<Figure size 432x288 with 1 Axes>"
      ]
     },
     "metadata": {
      "needs_background": "light"
     },
     "output_type": "display_data"
    }
   ],
   "source": [
    "# (1) # Your Code goes here:\n",
    "scatter_jitter(news_clean.w281_ico,news_clean.w273_tek,jitter = 0.2)\n",
    "plt.xlabel('w281_ico')\n",
    "plt.ylabel('w273_tek')"
   ]
  },
  {
   "cell_type": "markdown",
   "metadata": {},
   "source": "<div align=\"right\"><font color=\"blue\" size=\"4\">3.0</font></div>"
  },
  {
   "cell_type": "markdown",
   "metadata": {},
   "source": [
    "(2) ***Your answer goes here:***\n",
    "\n",
    "Those two features show positive relation. As w181 increases, w273 increases by the same extent. \n",
    "Yes, this impacts on the the validity of naive bayes assumption becasue these two attributes are strongly correlated. Thiis is like having an attribute with double weights. "
   ]
  },
  {
   "cell_type": "markdown",
   "metadata": {},
   "source": "<div align=\"right\"><font color=\"blue\" size=\"4\">5.0</font></div>"
  },
  {
   "cell_type": "markdown",
   "metadata": {},
   "source": [
    "### ========== Question 2.4 --- [7 marks] ==========\n",
    "1. [Text] What is a reasonable baseline against which to compare the classiffication performance? *Hint: What is the simplest classiffier you can think of?*. \n",
    "1. [Code] Estimate the baseline performance on the *training* data in terms of classification accuracy."
   ]
  },
  {
   "cell_type": "markdown",
   "metadata": {},
   "source": "<div align=\"right\"><font color=\"blue\" size=\"4\">6.0/7.0</font></div>"
  },
  {
   "cell_type": "markdown",
   "metadata": {},
   "source": [
    "(1) ***Your answer goes here:***\n",
    "\n",
    "A reasonable baseline classfier would be to assign each data instance to the class appears most frequently in the training set. \n",
    "\n",
    "In this case, the most frequent class is class 4."
   ]
  },
  {
   "cell_type": "markdown",
   "metadata": {},
   "source": "<div align=\"right\"><font color=\"blue\" size=\"4\">2.0</font></div>"
  },
  {
   "cell_type": "code",
   "execution_count": 10,
   "metadata": {},
   "outputs": [
    {
     "name": "stdout",
     "output_type": "stream",
     "text": [
      "The accuracy rate of baseline classifier is:\n",
      "0.21295855169128156\n"
     ]
    }
   ],
   "source": [
    "# (2) # Your Code goes here:\n",
    "accurateLables = news_train['class'].values\n",
    "\n",
    "\n",
    "baselinePrediction = np.zeros((accurateLables.shape)) + 4\n",
    "\n",
    "print('The accuracy rate of baseline classifier is:')\n",
    "print(accuracy_score(accurateLables,baselinePrediction))"
   ]
  },
  {
   "cell_type": "markdown",
   "metadata": {},
   "source": "<div align=\"right\"><font color=\"blue\" size=\"4\">4.0</font></div>"
  },
  {
   "cell_type": "markdown",
   "metadata": {},
   "source": [
    "<a id='question_2_5'></a>\n",
    "### ========== Question 2.5 --- [12 marks] ==========\n",
    "\n",
    "1. [Code] Fit a Gaussian Naive Bayes model to the cleaned dataset. \n",
    "\n",
    "1. [Code] Report the classification accuracy on the **training** dataset and plot a Confusion Matrix for the result (labelling the axes appropriately).\n",
    "\n",
    "1. [Text] Comment on the performance of the model. Is the accuracy a reasonable metric to use for this dataset?\n",
    "\n",
    "*Hint: You may make use of utility functions we provided, as well as an sklearn method for computing confusion matrices*"
   ]
  },
  {
   "cell_type": "markdown",
   "metadata": {},
   "source": "<div align=\"right\"><font color=\"blue\" size=\"4\">9.0/12.0</font></div>"
  },
  {
   "cell_type": "code",
   "execution_count": 11,
   "metadata": {},
   "outputs": [
    {
     "name": "stdout",
     "output_type": "stream",
     "text": [
      "The accuracy rate of Gaussian Naive Bayes Classifier is:\n",
      "0.8780371605526441\n"
     ]
    },
    {
     "data": {
      "image/png": "[encoded data removed]",
      "text/plain": [
       "<Figure size 432x288 with 2 Axes>"
      ]
     },
     "metadata": {
      "needs_background": "light"
     },
     "output_type": "display_data"
    }
   ],
   "source": [
    "# (1) # Your Code goes here:\n",
    "clf = GaussianNB()\n",
    "X = news_train.drop('class', axis=1,inplace=False)\n",
    "y = news_train['class']\n",
    "clf.fit(X, y)\n",
    "print('The accuracy rate of Gaussian Naive Bayes Classifier is:')\n",
    "print(accuracy_score(y,clf.predict(X)))\n",
    "\n",
    "confusionMatrix = confusion_matrix(y, clf.predict(X))\n",
    "NormalisedconfusionMatrix = confusionMatrix/confusionMatrix.sum(axis=1)[:, np.newaxis]\n",
    "\n",
    "    \n",
    "plt.figure()\n",
    "plot_confusion_matrix(NormalisedconfusionMatrix, classes=['1','2','3','4','5'])\n"
   ]
  },
  {
   "cell_type": "markdown",
   "metadata": {},
   "source": "<div align=\"right\"><font color=\"blue\" size=\"4\">7.0</font></div>"
  },
  {
   "cell_type": "markdown",
   "metadata": {},
   "source": [
    "(3) ***Your answer goes here:***\n",
    "\n",
    "Yes it is. Because data instances belong to five different classes. There is no point in calculating recall and precision rate."
   ]
  },
  {
   "cell_type": "markdown",
   "metadata": {},
   "source": "<div align=\"right\"><font color=\"blue\" size=\"4\">2.0</font></div>"
  },
  {
   "cell_type": "markdown",
   "metadata": {},
   "source": [
    "### ========== Question 2.6 --- [3 marks] ==========\n",
    "\n",
    "[Text] Comment on the confusion matrix from the previous question. Does it look like what you would have expected? Explain."
   ]
  },
  {
   "cell_type": "markdown",
   "metadata": {},
   "source": "<div align=\"right\"><font color=\"blue\" size=\"4\">3.0/3.0</font></div>"
  },
  {
   "cell_type": "markdown",
   "metadata": {},
   "source": [
    "***Your answer goes here:***\n",
    "\n",
    "\n",
    "This classisifer accurately predicted the classes 1, 3, 4, and 5, the accuracy of which is around 90%. However, this classisifer only accurately predicited 65% of class 2. This is low for training data. It also inaccuractely predicted 35% of class 2 as class 3. \n",
    "\n",
    "\n",
    "the two most frequently confused classes are \"comp.sys.ibm.pc.hardware\", \"comp.sys.mac.hardware\", which makes sense as they are both about computer hardware and they share the same vocabulary.\n",
    "\n",
    "\n",
    "The \"alt.atheism\" is the most accurately classified topic, this is because this topic is not closely related to others and it has the most distinct vocabulary in the given topics."
   ]
  },
  {
   "cell_type": "markdown",
   "metadata": {},
   "source": "<div align=\"right\"><font color=\"blue\" size=\"4\">3.0</font></div>"
  },
  {
   "cell_type": "markdown",
   "metadata": {},
   "source": [
    "### ========== Question 2.7 --- [12 marks] ==========\n",
    "\n",
    "Now we want to evaluate the generalisation of the classifier on new (i.e. unseen data). \n",
    "\n",
    "1. [Code] Use the classifier you trained in Question [2.5](#question_2_5) (i.e. on the cleaned dataset) and test its performance on the test dataset. Display classification accuracy and plot a confusion matrix of the performance on the test data. \n",
    "\n",
    "1. [Code] Also, reevaluate the performance of the baseline on the test data.\n",
    "\n",
    "1. [Text] In a short paragraph (3-4 sentences) compare and comment on the results with the training data/baseline."
   ]
  },
  {
   "cell_type": "markdown",
   "metadata": {},
   "source": "<div align=\"right\"><font color=\"blue\" size=\"4\">9.0/12.0</font></div>"
  },
  {
   "cell_type": "code",
   "execution_count": 12,
   "metadata": {},
   "outputs": [
    {
     "name": "stdout",
     "output_type": "stream",
     "text": [
      "The accuracy rate of Gaussian Naive Bayes Classifier on test data set is:\n",
      "0.8203125\n"
     ]
    },
    {
     "data": {
      "image/png": "[encoded data removed]",
      "text/plain": [
       "<Figure size 432x288 with 2 Axes>"
      ]
     },
     "metadata": {
      "needs_background": "light"
     },
     "output_type": "display_data"
    }
   ],
   "source": [
    "# (1) # Your Code goes here:\n",
    "X = news_test.drop('class', axis=1,inplace=False)\n",
    "y = news_test['class']\n",
    "\n",
    "print('The accuracy rate of Gaussian Naive Bayes Classifier on test data set is:')\n",
    "print(accuracy_score(y,clf.predict(X)))\n",
    "\n",
    "confusionMatrix = confusion_matrix(y, clf.predict(X))\n",
    "confusionMatrix_norm = confusionMatrix/confusionMatrix.sum(axis=1)[:, np.newaxis]\n",
    "    \n",
    "plt.figure()\n",
    "plot_confusion_matrix(confusionMatrix_norm, classes=['1','2','3','4','5'])"
   ]
  },
  {
   "cell_type": "markdown",
   "metadata": {},
   "source": "<div align=\"right\"><font color=\"blue\" size=\"4\">3.0</font></div>"
  },
  {
   "cell_type": "code",
   "execution_count": 13,
   "metadata": {},
   "outputs": [
    {
     "name": "stdout",
     "output_type": "stream",
     "text": [
      "The accuracy rate of Baseline Classifier on test data set is:\n",
      "0.203125\n"
     ]
    },
    {
     "data": {
      "image/png": "[encoded data removed]",
      "text/plain": [
       "<Figure size 432x288 with 2 Axes>"
      ]
     },
     "metadata": {
      "needs_background": "light"
     },
     "output_type": "display_data"
    }
   ],
   "source": [
    "# (2) # Your Code goes here:\n",
    "baselinePrediction1 = np.ones((y.shape))+3\n",
    "ca_random = accuracy_score(y, baselinePrediction1)\n",
    "cm_random = confusion_matrix(y, baselinePrediction1)\n",
    "cm_norm_random = cm_random/cm_random.sum(axis=1)[:, np.newaxis]\n",
    "\n",
    "plt.figure()\n",
    "plot_confusion_matrix(cm_norm_random, classes=['1', '2', '3', '4','5'])\n",
    "\n",
    "print('The accuracy rate of Baseline Classifier on test data set is:')\n",
    "print(ca_random)"
   ]
  },
  {
   "cell_type": "markdown",
   "metadata": {},
   "source": "<div align=\"right\"><font color=\"blue\" size=\"4\">2.0</font></div>"
  },
  {
   "cell_type": "markdown",
   "metadata": {},
   "source": [
    "(3) ***Your answer goes here:***\n",
    "\n",
    "The accuracy rate of test data is lower than training data, which means model overfits the training data. Despite the accuracy of testing data is a little bit lower than training data, gaussian classfier still predicts class 1,3,4,5 correctly whereas baseline classifier's accuracy for class four is 100% and for other classes is 0%."
   ]
  },
  {
   "cell_type": "markdown",
   "metadata": {},
   "source": "<div align=\"right\"><font color=\"blue\" size=\"4\">4.0</font></div>"
  },
  {
   "cell_type": "markdown",
   "metadata": {},
   "source": [
    "### ========== Question 2.8 --- (LEVEL 11) --- [7 marks] ==========\n",
    "1. [Code] Fit a Gaussian Naive Bayes model to the original raw dataset (including the outliers) and test its performance on the **test** set. \n",
    "\n",
    "1. [Text] Comment on the output and explain why or why not cleaning affects the classifier."
   ]
  },
  {
   "cell_type": "code",
   "execution_count": 14,
   "metadata": {},
   "outputs": [],
   "source": [
    "# (1) # Your Code goes here:"
   ]
  },
  {
   "cell_type": "markdown",
   "metadata": {},
   "source": [
    "(2) ***Your answer goes here:***"
   ]
  },
  {
   "cell_type": "markdown",
   "metadata": {},
   "source": [
    "### ========== Question 2.9 --- (LEVEL 11) --- [3 marks] ==========\n",
    "\n",
    "In this exercise we have fitted a Gaussian Naive Bayes classifier to the data (i.e. the class conditional densities are Gaussians). However, this is not ideally suited to our dataset. Can you explain why this is so? what kind of Naive Bayes model would you employ to this kind of data?"
   ]
  },
  {
   "cell_type": "markdown",
   "metadata": {},
   "source": [
    "***Your answer goes here:***"
   ]
  }
 ],
 "metadata": {
  "kernelspec": {
   "display_name": "Python 3",
   "language": "python",
   "name": "python3"
  },
  "language_info": {
   "codemirror_mode": {
    "name": "ipython",
    "version": 3
   },
   "file_extension": ".py",
   "mimetype": "text/x-python",
   "name": "python",
   "nbconvert_exporter": "python",
   "pygments_lexer": "ipython3",
   "version": "3.6.5"
  }
 },
 "nbformat": 4,
 "nbformat_minor": 1
}