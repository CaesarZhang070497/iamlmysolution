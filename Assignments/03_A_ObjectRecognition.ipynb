{
 "cells": [
  {
   "cell_type": "markdown",
   "metadata": {},
   "source": [
    "# Introductory applied machine learning (INFR10069)\n",
    "# Assignment 3 (Part A): Object Recognition [75%]"
   ]
  },
  {
   "cell_type": "markdown",
   "metadata": {},
   "source": [
    "## Important Instructions\n",
    "\n",
    "**It is important that you follow the instructions below to the letter - we will not be responsible for incorrect marking due to non-standard practices.**\n",
    "\n",
    "1. <font color='red'>We have split Assignment 3 into two parts to make it easier for you to work on them separately and for the markers to give you feedback. This is part A of Assignment 3 - Part B is the Mini-Challenge. Both Assignments together are still worth 50% of CourseWork 2. **Remember to submit both notebooks (you can submit them separately).**</font>\n",
    "\n",
    "1. You *MUST* have your environment set up as in the [README](https://github.com/michael-camilleri/IAML2018) and you *must activate this environment before running this notebook*:\n",
    "```\n",
    "source activate py3iaml\n",
    "cd [DIRECTORY CONTAINING GIT REPOSITORY]\n",
    "jupyter notebook\n",
    "# Navigate to this file\n",
    "```\n",
    "\n",
    "1. Read the instructions carefully, especially where asked to name variables with a specific name. Wherever you are required to produce code you should use code cells, otherwise you should use markdown cells to report results and explain answers. In most cases we indicate the nature of answer we are expecting (code/text), and also provide the code/markdown cell where to put it\n",
    "\n",
    "1. There are some questions which are **specific to those taking the Level-11 version** of the course (INFR11182 and INFR11152). These are clearly marked with the words **(LEVEL 11)** and must be completed by those taking the Level 11 course. Those on the Level 10 version (INFR10069) may (and are advised to) attempt such questions but this will not affect their mark in any way, nor will they get feedback on them.\n",
    "\n",
    "1. The .csv files that you will be using are located at `./datasets` (i.e. use the `datasets` directory **adjacent** to this file).\n",
    "\n",
    "1. Keep your answers brief and concise. Most written questions can be answered with 2-3 lines of explanation: **in questions where this is specified, you will be penalised if you go over.**\n",
    "\n",
    "1. Make sure to distinguish between **attributes** (columns of the data) and **features** (typically referring only to the independent variables).\n",
    "\n",
    "1. Make sure to show **all** your code/working. \n",
    "\n",
    "1. Write readable code. While we do not expect you to follow [PEP8](https://www.python.org/dev/peps/pep-0008/) to the letter, the code should be adequately understandable, with plots/visualisations correctly labelled. **Do** use inline comments when doing something non-standard. When asked to present numerical values, make sure to represent real numbers in the appropriate precision to exemplify your answer. Marks *WILL* be deducted if the marker cannot understand your logic/results.\n",
    "\n",
    "1. **Collaboration:** You may discuss the assignment with your colleagues, provided that the writing that you submit is entirely your own. That is, you must NOT borrow actual text or code from other students. We ask that you provide a list of the people who you've had discussions with (if any). Please refer to the [Academic Misconduct](http://web.inf.ed.ac.uk/infweb/admin/policies/academic-misconduct) page for what consistutes a breach of the above.\n",
    "\n",
    "### SUBMISSION Mechanics\n",
    "\n",
    "**IMPORTANT:** You must submit this assignment by **Thursday 15/11/2018 at 16:00**. \n",
    "\n",
    "**Late submissions:** The policy stated in the School of Informatics is that normally you will not be allowed to submit coursework late. See the [ITO webpage](http://web.inf.ed.ac.uk/infweb/student-services/ito/admin/coursework-projects/late-coursework-extension-requests) for exceptions to this, e.g. in case of serious medical illness or serious personal problems.\n",
    "\n",
    "**Resubmission:** If you submit your file(s) again, the previous submission is **overwritten**. We will mark the version that is in the submission folder at the deadline.\n",
    "\n",
    "**N.B.**: This Assignment requires submitting **two files (electronically as described below)**:\n",
    " 1. This Jupyter Notebook for Part A, *and*\n",
    " 1. The Jupyter Notebook for Part B\n",
    " \n",
    "All submissions happen electronically. To submit:\n",
    "\n",
    "1. Fill out this notebook (as well as Part B), making sure to:\n",
    "   1. save it with **all code/text and visualisations**: markers are NOT expected to run any cells,\n",
    "   1. keep the name of the file **UNCHANGED**, *and*\n",
    "   1. **keeping the same structure**: retain the questions, and avoid adding unnecessary cells unless absolutely necessary, as this makes the job harder for the markers.\n",
    "\n",
    "1. Submit it using the `submit` functionality. To do this, you must be on a DICE environment. Open a Terminal, and:\n",
    "   1. **On-Campus Students**: navigate to the location of this notebook and execute the following command:\n",
    "   \n",
    "      ```submit iaml cw2 03_A_ObjectRecognition.ipynb 03_B_MiniChallenge.ipynb```\n",
    "      \n",
    "   1. **Distance Learners:** These instructions also apply to those students who work on their own computer. First you need to copy your work onto DICE (so that you can use the `submit` command). For this, you can use `scp` or `rsync` (you may need to install these yourself). You can copy files to `student.ssh.inf.ed.ac.uk`, then ssh into it in order to submit. The following is an example. Replace entries in `[square brackets]` with your specific details: i.e. if your student number is for example s1234567, then `[YOUR USERNAME]` becomes `s1234567`.\n",
    "   \n",
    "    ```\n",
    "    scp -r [FULL PATH TO 03_A_ObjectRecognition.ipynb] [YOUR USERNAME]@student.ssh.inf.ed.ac.uk:03_A_ObjectRecognition.ipynb\n",
    "    scp -r [FULL PATH TO 03_B_MiniChallenge.ipynb] [YOUR USERNAME]@student.ssh.inf.ed.ac.uk:03_B_MiniChallenge.ipynb\n",
    "    ssh [YOUR USERNAME]@student.ssh.inf.ed.ac.uk\n",
    "    ssh student.login\n",
    "    submit iaml cw2 03_A_ObjectRecognition.ipynb 03_B_MiniChallenge.ipynb\n",
    "    ```\n",
    "    \n",
    "   What actually happens in the background is that your file is placed in a folder available to markers. If you submit a file with the same name into the same location, **it will *overwrite* your previous submission**. You should receive an automatic email confirmation after submission.\n",
    "  \n",
    "\n",
    "\n",
    "### Marking Breakdown\n",
    "\n",
    "The Level 10 and Level 11 points are marked out of different totals, however these are all normalised to 100%. Note that Part A (this notebook) is worth 75% of the total Mark for Assignment 3, while Part B (Mini-Challenge) is worth 25%: *keep this breakdown in mind when planning your work, especially for Part B*.\n",
    "\n",
    "**70-100%** results/answer correct plus extra achievement at understanding or analysis of results. Clear explanations, evidence of creative or deeper thought will contribute to a higher grade.\n",
    "\n",
    "**60-69%** results/answer correct or nearly correct and well explained.\n",
    "\n",
    "**50-59%** results/answer in right direction but significant errors.\n",
    "\n",
    "**40-49%** some evidence that the student has gained some understanding, but not answered the questions\n",
    "properly.\n",
    "\n",
    "**0-39%** serious error or slack work.\n",
    "\n",
    "Note that while this is not a programming assignment, in questions which involve visualisation of results and/or long cold snippets, some marks may be deducted if the code is not adequately readable."
   ]
  },
  {
   "cell_type": "markdown",
   "metadata": {},
   "source": [
    "## Imports\n",
    "\n",
    "Use the cell below to include any imports you deem necessary."
   ]
  },
  {
   "cell_type": "code",
   "execution_count": 1,
   "metadata": {},
   "outputs": [
    {
     "name": "stderr",
     "output_type": "stream",
     "text": [
      "/Users/user/miniconda3/envs/py3iaml/lib/python3.7/site-packages/sklearn/utils/__init__.py:4: DeprecationWarning: Using or importing the ABCs from 'collections' instead of from 'collections.abc' is deprecated, and in 3.8 it will stop working\n",
      "  from collections import Sequence\n"
     ]
    }
   ],
   "source": [
    "# Nice Formatting within Jupyter Notebook\n",
    "%matplotlib inline\n",
    "from IPython.display import display # Allows multiple displays from a single code-cell\n",
    "\n",
    "# System functionality\n",
    "import sys\n",
    "sys.path.append('..')\n",
    "\n",
    "# Import Here any Additional modules you use. To import utilities we provide, use something like:\n",
    "#   from utils.plotter import plot_hinton\n",
    "\n",
    "\n",
    "# Your Code goes here:\n",
    "import os\n",
    "import pandas as pd\n",
    "from sklearn.model_selection import train_test_split\n",
    "import seaborn as sns\n",
    "import matplotlib.pyplot as plt\n",
    "from sklearn.metrics import accuracy_score, confusion_matrix\n",
    "import numpy as np\n",
    "from sklearn.linear_model import LogisticRegression\n",
    "from utils.plotter import scatter_jitter, plot_confusion_matrix\n",
    "from sklearn import preprocessing\n",
    "from sklearn.model_selection import KFold\n",
    "from matplotlib.pyplot import errorbar\n",
    "from sklearn.svm import LinearSVC, SVC\n",
    "from sklearn.preprocessing import StandardScaler\n",
    "from utils.plotter import plot_SVM_DecisionBoundary\n",
    "from sklearn.model_selection import cross_val_score,cross_val_predict"
   ]
  },
  {
   "cell_type": "markdown",
   "metadata": {},
   "source": [
    "## Description of the dataset\n",
    "In this assignment our goal is to recognize objects in images of realistic scenes. There are 19 different classes of object e.g. person, dog, cat, car, etc. The dataset derives from several thousands photographs harvested from the web. Each object of a relevant class has been manually annotated with a bounding box. Images can contain none, one or multiple objects of each class. We have prepared a [website](http://www.inf.ed.ac.uk/teaching/courses/iaml/2014/assts/asst3/images.html) where you can view the images.\n",
    "\n",
    "We are going to detect whether images contain a person or not - a binary classification problem. To save you time and to make the problem manageable with limited computational resources, we have preprocessed the dataset. We will use the [Bag of Visual Words](https://en.wikipedia.org/wiki/Bag-of-words_model_in_computer_vision) representation. Each column of the dataset (which is not a label), refers to a 'visual word'. Each image is represented by a 500 dimensional vector that contains the normalized count for each of 500 different visual words present in the respective image (a similar representation is used for the spambase dataset, just for real words). *Note that the normalisation procedure involves dividing the count vector by the total number of visual words in the image, i.e. the normalized counts sum to 1 for each image*. See the Appendix at the bottom of the notebook for more information. The image data is thus a $N \\times 500$ dimensional matrix where `N` is the number of images.\n",
    "\n",
    "The full dataset has 520 attributes (dimensions). The first attribute (`imgId`) contains the image ID which allows you to associate a data point with an actual image. The next 500 attributes (`dim1`, ..., `dim500`) are a normalized count vector for each visual word: these are the `features` of the data. The last 19 attributes, which follow the pattern `is_[class]` are the class labels -- here 1 means the class is present in the image. In most of the experiments (unless explicitly noted otherwise) you will only need the `is_person` attribute and the 500 dimensional feature vector. **Do not use the additional class indicator attributes as features** unless explicitly told to do so. \n",
    "\n",
    "**Important**: *Throughout the assignment you will be given various versions of the dataset that are relevant\n",
    "to a particular question. Please be careful to use the correct version of the dataset when instructed to do so.\n",
    "If you use the wrong version of the dataset by mistake no marks will be awarded.*"
   ]
  },
  {
   "cell_type": "markdown",
   "metadata": {},
   "source": [
    "## 1. Exploration of the dataset"
   ]
  },
  {
   "cell_type": "markdown",
   "metadata": {},
   "source": [
    "<a id='question1_1'></a>\n",
    "### ========== Question 1.1 --- [12 marks] ==========\n",
    "\n",
    "We will first get a feel for the data. *IMPORTANT: Show all your code!*\n",
    "\n",
    "&nbsp;&nbsp;**(a)** [Code] Load the training dataset `Images_A_Train.csv` into a pandas dataframe, keeping only the Visual Features and the `is_person` column. <br>\n",
    "&nbsp;&nbsp;&nbsp;&nbsp;*Hint: You may wish to first have a look at the column names*<br>\n",
    "&nbsp;&nbsp;**(b)** [Code] Using suitable pandas methods, summarise the key properties of the data, *and*<br>\n",
    "&nbsp;&nbsp;**(c)** [Text] comment on your observations from ***(b)*** (dimensionality, data ranges, anything out of the ordinary)."
   ]
  },
  {
   "cell_type": "code",
   "execution_count": 2,
   "metadata": {},
   "outputs": [],
   "source": [
    "# (a) # Your Code goes here:\n",
    "data_path = os.path.join(os.getcwd(), 'datasets', 'Images_A_Train.csv')\n",
    "Images_A_Train = pd.read_csv(data_path, delimiter = ',')\n",
    "Images_A_Train = Images_A_Train.drop(['imgId','is_aeroplane', 'is_bicycle', 'is_bird', 'is_boat', 'is_bottle',\n",
    "       'is_bus', 'is_car', 'is_cat', 'is_chair', 'is_cow',\n",
    "       'is_diningtable', 'is_dog', 'is_horse', 'is_motorbike','is_pottedplant', 'is_sheep', 'is_sofa',\n",
    "       'is_tvmonitor'],axis = 1)"
   ]
  },
  {
   "cell_type": "code",
   "execution_count": 3,
   "metadata": {},
   "outputs": [
    {
     "name": "stdout",
     "output_type": "stream",
     "text": [
      "<class 'pandas.core.frame.DataFrame'>\n",
      "RangeIndex: 2093 entries, 0 to 2092\n",
      "Columns: 501 entries, dim1 to is_person\n",
      "dtypes: float64(495), int64(6)\n",
      "memory usage: 8.0 MB\n",
      "None\n",
      "              dim1         dim2         dim3         dim4         dim5  \\\n",
      "count  2093.000000  2093.000000  2093.000000  2093.000000  2093.000000   \n",
      "mean      0.001751     0.000756     0.004317     0.001853     0.002272   \n",
      "std       0.001193     0.001406     0.003693     0.001340     0.001598   \n",
      "min       0.000000     0.000000     0.000000     0.000000     0.000000   \n",
      "25%       0.000833     0.000000     0.001359     0.000756     0.001116   \n",
      "50%       0.001563     0.000340     0.003397     0.001698     0.002038   \n",
      "75%       0.002378     0.000893     0.006324     0.002717     0.003057   \n",
      "max       0.009851     0.016644     0.027514     0.010789     0.010417   \n",
      "\n",
      "              dim6         dim7         dim8         dim9        dim10  \\\n",
      "count  2093.000000  2093.000000  2093.000000  2093.000000  2093.000000   \n",
      "mean      0.002220     0.001019     0.002446     0.002088     0.002746   \n",
      "std       0.001741     0.000873     0.002910     0.001971     0.002328   \n",
      "min       0.000000     0.000000     0.000000     0.000000     0.000000   \n",
      "25%       0.001019     0.000340     0.000625     0.000744     0.001116   \n",
      "50%       0.001860     0.000744     0.001563     0.001698     0.002056   \n",
      "75%       0.003057     0.001488     0.003397     0.002717     0.003736   \n",
      "max       0.021739     0.005774     0.029830     0.028372     0.020380   \n",
      "\n",
      "          ...            dim492       dim493       dim494       dim495  \\\n",
      "count     ...       2093.000000  2093.000000  2093.000000  2093.000000   \n",
      "mean      ...          0.000563     0.004586     0.001541     0.003642   \n",
      "std       ...          0.001203     0.005825     0.001192     0.002657   \n",
      "min       ...          0.000000     0.000000     0.000000     0.000000   \n",
      "25%       ...          0.000000     0.000679     0.000679     0.001698   \n",
      "50%       ...          0.000000     0.002717     0.001359     0.003057   \n",
      "75%       ...          0.000679     0.006454     0.002232     0.004808   \n",
      "max       ...          0.021739     0.053329     0.010234     0.024457   \n",
      "\n",
      "            dim496       dim497       dim498       dim499       dim500  \\\n",
      "count  2093.000000  2093.000000  2093.000000  2093.000000  2093.000000   \n",
      "mean      0.002200     0.002928     0.002173     0.002485     0.002978   \n",
      "std       0.001664     0.003254     0.001418     0.001997     0.002765   \n",
      "min       0.000000     0.000000     0.000000     0.000000     0.000000   \n",
      "25%       0.001019     0.000744     0.001116     0.001019     0.001019   \n",
      "50%       0.001860     0.001953     0.002038     0.002038     0.002232   \n",
      "75%       0.003057     0.003780     0.002976     0.003397     0.004076   \n",
      "max       0.011719     0.028125     0.008492     0.014509     0.028533   \n",
      "\n",
      "         is_person  \n",
      "count  2093.000000  \n",
      "mean      0.449116  \n",
      "std       0.497523  \n",
      "min       0.000000  \n",
      "25%       0.000000  \n",
      "50%       0.000000  \n",
      "75%       1.000000  \n",
      "max       1.000000  \n",
      "\n",
      "[8 rows x 501 columns]\n",
      "       dim1      dim2      dim3      dim4      dim5      dim6      dim7  \\\n",
      "0  0.002232  0.000558  0.002790  0.000837  0.001674  0.001953  0.001395   \n",
      "1  0.001563  0.000391  0.007422  0.003516  0.003906  0.005078  0.001953   \n",
      "2  0.000521  0.000000  0.000000  0.001042  0.001563  0.005729  0.000521   \n",
      "3  0.002976  0.002232  0.004464  0.000372  0.000372  0.002232  0.000000   \n",
      "4  0.001359  0.000340  0.001359  0.000340  0.001359  0.002038  0.002378   \n",
      "\n",
      "       dim8      dim9     dim10    ...        dim492    dim493    dim494  \\\n",
      "0  0.002232  0.003627  0.006138    ...      0.000558  0.005301  0.001116   \n",
      "1  0.002344  0.001953  0.001953    ...      0.000000  0.008203  0.001172   \n",
      "2  0.002083  0.003646  0.005208    ...      0.000000  0.000521  0.000521   \n",
      "3  0.003720  0.000000  0.002232    ...      0.000000  0.015253  0.000744   \n",
      "4  0.000000  0.003397  0.003397    ...      0.000679  0.000000  0.001359   \n",
      "\n",
      "     dim495    dim496    dim497    dim498    dim499    dim500  is_person  \n",
      "0  0.004185  0.000837  0.006975  0.001953  0.001674  0.000558          1  \n",
      "1  0.007422  0.004297  0.001563  0.000000  0.003125  0.004687          0  \n",
      "2  0.002083  0.000000  0.000000  0.000521  0.003646  0.000000          0  \n",
      "3  0.001488  0.000744  0.000372  0.001860  0.000000  0.001860          1  \n",
      "4  0.001019  0.003736  0.008152  0.003736  0.000679  0.001698          0  \n",
      "\n",
      "[5 rows x 501 columns]\n",
      "sum of row 0       0.999942\n",
      "1       1.000029\n",
      "2       1.000037\n",
      "3       0.999943\n",
      "4       0.999987\n",
      "5       0.999975\n",
      "6       0.999989\n",
      "7       0.999979\n",
      "8       0.999983\n",
      "9       0.999984\n",
      "10      0.999985\n",
      "11      1.000017\n",
      "12      0.999962\n",
      "13      0.999983\n",
      "14      0.999983\n",
      "15      0.999977\n",
      "16      0.999993\n",
      "17      0.999977\n",
      "18      0.999994\n",
      "19      0.999979\n",
      "20      0.999953\n",
      "21      0.999965\n",
      "22      0.999991\n",
      "23      0.999975\n",
      "24      0.999981\n",
      "25      0.999992\n",
      "26      0.999977\n",
      "27      0.999986\n",
      "28      1.000000\n",
      "29      0.999938\n",
      "          ...   \n",
      "2063    0.999939\n",
      "2064    1.000037\n",
      "2065    0.999985\n",
      "2066    0.999976\n",
      "2067    0.999993\n",
      "2068    1.000062\n",
      "2069    1.000038\n",
      "2070    0.999999\n",
      "2071    1.000006\n",
      "2072    0.999973\n",
      "2073    0.999989\n",
      "2074    0.999987\n",
      "2075    0.999992\n",
      "2076    0.999942\n",
      "2077    0.999992\n",
      "2078    0.999987\n",
      "2079    0.999993\n",
      "2080    0.999953\n",
      "2081    0.999984\n",
      "2082    0.999942\n",
      "2083    0.999990\n",
      "2084    0.999987\n",
      "2085    0.999947\n",
      "2086    0.999989\n",
      "2087    1.000001\n",
      "2088    0.999979\n",
      "2089    0.999950\n",
      "2090    0.999973\n",
      "2091    0.999937\n",
      "2092    0.999977\n",
      "Length: 2093, dtype: float64\n"
     ]
    }
   ],
   "source": [
    "# (b) # Your Code goes here:\n",
    "print(Images_A_Train.info())\n",
    "print(Images_A_Train.describe())\n",
    "print(Images_A_Train.head())\n",
    "print(\"sum of row\",Images_A_Train.iloc[:,:500].sum(axis = 1))"
   ]
  },
  {
   "cell_type": "markdown",
   "metadata": {},
   "source": [
    "(c) ***Your answer goes here:***\n",
    "\n",
    "There are 2093 data instances, 501 columns.\n",
    "\n",
    "Each data has 500 dimensions.\n",
    "\n",
    "The last column is for \"is_person\", which indicates the class of a data instance.\n",
    "\n",
    "Each row appximately sums to one.\n",
    "\n",
    "The mean and standard deviation of every data dimension are less than 0.01\n",
    "\n",
    "every value is between 0 and 1.\n",
    "\n",
    "There are two datatypes, float64 and int64.\n",
    "\n",
    "There are no evident outliers in many columns,\n",
    "e.g. for every dimension the max is less then one and because they are normalized count vector, this is what they should be. Therfore there are no outliers. "
   ]
  },
  {
   "cell_type": "markdown",
   "metadata": {},
   "source": [
    "### ========== Question 1.2 --- [8 marks] ==========\n",
    "\n",
    "Now we will prepare the testing set in a similar manner.\n",
    "\n",
    "&nbsp;&nbsp;**(a)** [Code] Load the testing dataset `Images_A_Test.csv` into a pandas dataframe: again extract the Visual Features and the `is_person` column. <br>\n",
    "&nbsp;&nbsp;**(b)** [Code] Using similar methods to [Q1.1](#question1_1) verify that the testing set is similar to the training set.<br>\n",
    "&nbsp;&nbsp;**(c)** [Text] Indicate the dimensionality, and comment on any discrepancies if any (if they are similar, just say so)."
   ]
  },
  {
   "cell_type": "code",
   "execution_count": 4,
   "metadata": {},
   "outputs": [],
   "source": [
    "# (a) # Your Code goes here:\n",
    "data_path = os.path.join(os.getcwd(), 'datasets', 'Images_A_Test.csv')\n",
    "Images_A_Test = pd.read_csv(data_path, delimiter = ',')\n",
    "Images_A_Test = Images_A_Test.drop(['imgId','is_aeroplane', 'is_bicycle', 'is_bird', 'is_boat', 'is_bottle',\n",
    "       'is_bus', 'is_car', 'is_cat', 'is_chair', 'is_cow',\n",
    "       'is_diningtable', 'is_dog', 'is_horse', 'is_motorbike','is_pottedplant', 'is_sheep', 'is_sofa',\n",
    "       'is_tvmonitor'],axis = 1)"
   ]
  },
  {
   "cell_type": "code",
   "execution_count": 5,
   "metadata": {
    "scrolled": false
   },
   "outputs": [
    {
     "name": "stdout",
     "output_type": "stream",
     "text": [
      "<class 'pandas.core.frame.DataFrame'>\n",
      "RangeIndex: 1113 entries, 0 to 1112\n",
      "Columns: 501 entries, dim1 to is_person\n",
      "dtypes: float64(494), int64(7)\n",
      "memory usage: 4.3 MB\n",
      "None\n",
      "              dim1         dim2         dim3         dim4         dim5  \\\n",
      "count  1113.000000  1113.000000  1113.000000  1113.000000  1113.000000   \n",
      "mean      0.001744     0.000702     0.004720     0.001978     0.002321   \n",
      "std       0.001209     0.001364     0.003876     0.001417     0.001558   \n",
      "min       0.000000     0.000000     0.000000     0.000000     0.000000   \n",
      "25%       0.000744     0.000000     0.001698     0.001019     0.001172   \n",
      "50%       0.001563     0.000340     0.003736     0.001698     0.002038   \n",
      "75%       0.002378     0.000758     0.007102     0.002734     0.003057   \n",
      "max       0.007133     0.022135     0.023438     0.008929     0.010417   \n",
      "\n",
      "              dim6         dim7         dim8         dim9        dim10  \\\n",
      "count  1113.000000  1113.000000  1113.000000  1113.000000  1113.000000   \n",
      "mean      0.002110     0.001037     0.002529     0.002006     0.002641   \n",
      "std       0.001559     0.000885     0.002736     0.001919     0.002293   \n",
      "min       0.000000     0.000000     0.000000     0.000000     0.000000   \n",
      "25%       0.001019     0.000340     0.000679     0.000781     0.001019   \n",
      "50%       0.001803     0.000781     0.001698     0.001563     0.002038   \n",
      "75%       0.002976     0.001488     0.003397     0.002717     0.003397   \n",
      "max       0.010789     0.005757     0.022396     0.025000     0.013927   \n",
      "\n",
      "          ...            dim492       dim493       dim494       dim495  \\\n",
      "count     ...       1113.000000  1113.000000  1113.000000  1113.000000   \n",
      "mean      ...          0.000598     0.004817     0.001585     0.003611   \n",
      "std       ...          0.001241     0.005831     0.001243     0.002471   \n",
      "min       ...          0.000000     0.000000     0.000000     0.000000   \n",
      "25%       ...          0.000000     0.000679     0.000679     0.001860   \n",
      "50%       ...          0.000000     0.002734     0.001359     0.003125   \n",
      "75%       ...          0.000679     0.006793     0.002232     0.004836   \n",
      "max       ...          0.012747     0.042026     0.009821     0.015625   \n",
      "\n",
      "            dim496       dim497       dim498       dim499       dim500  \\\n",
      "count  1113.000000  1113.000000  1113.000000  1113.000000  1113.000000   \n",
      "mean      0.002196     0.002772     0.002239     0.002407     0.003097   \n",
      "std       0.001575     0.003182     0.001346     0.001868     0.002590   \n",
      "min       0.000000     0.000000     0.000000     0.000000     0.000000   \n",
      "25%       0.001019     0.000679     0.001250     0.001019     0.001359   \n",
      "50%       0.001860     0.001838     0.002038     0.002038     0.002604   \n",
      "75%       0.003057     0.003736     0.003057     0.003348     0.004092   \n",
      "max       0.013346     0.029225     0.007068     0.011889     0.026786   \n",
      "\n",
      "         is_person  \n",
      "count  1113.000000  \n",
      "mean      0.473495  \n",
      "std       0.499521  \n",
      "min       0.000000  \n",
      "25%       0.000000  \n",
      "50%       0.000000  \n",
      "75%       1.000000  \n",
      "max       1.000000  \n",
      "\n",
      "[8 rows x 501 columns]\n",
      "sum of rows 0       0.999984\n",
      "1       0.999988\n",
      "2       0.999947\n",
      "3       0.999985\n",
      "4       0.999976\n",
      "5       0.999981\n",
      "6       0.999990\n",
      "7       0.999942\n",
      "8       0.999981\n",
      "9       0.999998\n",
      "10      0.999992\n",
      "11      0.999985\n",
      "12      1.000027\n",
      "13      0.999982\n",
      "14      0.999999\n",
      "15      0.999991\n",
      "16      0.999945\n",
      "17      0.999951\n",
      "18      0.999976\n",
      "19      1.000030\n",
      "20      1.000066\n",
      "21      0.999937\n",
      "22      0.999989\n",
      "23      0.999985\n",
      "24      0.999982\n",
      "25      0.999986\n",
      "26      0.999980\n",
      "27      0.999986\n",
      "28      0.999942\n",
      "29      0.999978\n",
      "          ...   \n",
      "1083    0.999949\n",
      "1084    0.999990\n",
      "1085    0.999952\n",
      "1086    0.999984\n",
      "1087    0.999937\n",
      "1088    0.999953\n",
      "1089    0.999940\n",
      "1090    1.000004\n",
      "1091    0.999992\n",
      "1092    0.999987\n",
      "1093    1.000005\n",
      "1094    1.000001\n",
      "1095    1.000062\n",
      "1096    1.000041\n",
      "1097    0.999992\n",
      "1098    0.999996\n",
      "1099    0.999981\n",
      "1100    0.999979\n",
      "1101    1.000011\n",
      "1102    0.999996\n",
      "1103    0.999999\n",
      "1104    0.999981\n",
      "1105    0.999985\n",
      "1106    0.999972\n",
      "1107    1.000026\n",
      "1108    0.999979\n",
      "1109    0.999980\n",
      "1110    0.999988\n",
      "1111    0.999992\n",
      "1112    0.999949\n",
      "Length: 1113, dtype: float64\n"
     ]
    }
   ],
   "source": [
    "# (b) # Your Code goes here:\n",
    "print(Images_A_Test.info())\n",
    "print(Images_A_Test.describe())\n",
    "print(\"sum of rows\",Images_A_Test.iloc[:,:500].sum(axis = 1))"
   ]
  },
  {
   "cell_type": "markdown",
   "metadata": {},
   "source": [
    "(c) ***Your answer goes here:***\n",
    "\n",
    "there are only 1113 data instances in training data and there are also 500 dimensionalities.(There are 2093 data instances in training data)\n",
    "\n",
    "Testing set is similar to training set in that they both have 500 dimensions. For each column, their mean, std and 25%,50%,75% quartile are simliar.\n",
    "\n",
    "Datatypes are also float64 and int64 and data values are also ranges from 0 to 1 "
   ]
  },
  {
   "cell_type": "markdown",
   "metadata": {},
   "source": [
    "### ========== Question 1.3 --- [5 marks] ==========\n",
    "\n",
    "We will now prepare the data for training.\n",
    "\n",
    "&nbsp;&nbsp;**(a)** [Code] Split both the training and testing sets into a matrix of features (independent) variables [X_tr/X_tst] and a vector of prediction (dependent) variables [y_tr/y_tst]. ***[Optional]*** *As a sanity check, you may wish to verify the dimensionality of the X/y variables*.<br>\n",
    "&nbsp;&nbsp;**(b)** [Code] Using seaborn's [countplot](https://seaborn.github.io/generated/seaborn.countplot.html?highlight=countplot#seaborn.countplot) function, visualise the distribution of the person-class (True/False) in the training and testing sets (use two figures or sub-plots). Annotate your figures.<br>\n",
    "&nbsp;&nbsp;**(c)** [Text] Do you envision any problems with the distribution under both sets? Would classification accuracy be a good metric for evaluating the performance of the classifiers? Why or why not?"
   ]
  },
  {
   "cell_type": "code",
   "execution_count": 6,
   "metadata": {},
   "outputs": [],
   "source": [
    "# (a) # Your Code goes here:\n",
    "X_tr = Images_A_Train.drop(\"is_person\",axis = 1)\n",
    "X_tst = Images_A_Test.drop(\"is_person\",axis = 1)\n",
    "y_tr = Images_A_Train[\"is_person\"]\n",
    "y_tst = Images_A_Test[\"is_person\"]"
   ]
  },
  {
   "cell_type": "code",
   "execution_count": 7,
   "metadata": {},
   "outputs": [
    {
     "data": {
      "text/plain": [
       "[Text(0,0,'NOT a person'), Text(0,0,'a person')]"
      ]
     },
     "execution_count": 7,
     "metadata": {},
     "output_type": "execute_result"
    },
    {
     "data": {
      "image/png": "[encoded data removed]",
      "text/plain": [
       "<Figure size 504x504 with 2 Axes>"
      ]
     },
     "metadata": {
      "needs_background": "light"
     },
     "output_type": "display_data"
    }
   ],
   "source": [
    "# (b) # Your Code goes here:\n",
    "fig, ax = plt.subplots(figsize=(7,7))\n",
    "plt.subplot(1,2,1)\n",
    "ax = sns.countplot(x='is_person', data=Images_A_Train)\n",
    "ax.set_xticklabels(['NOT a person', 'a person'])\n",
    "\n",
    "plt.subplot(1,2,2)\n",
    "ax = sns.countplot(x='is_person', data=Images_A_Test)\n",
    "ax.set_xticklabels(['NOT a person', 'a person'])"
   ]
  },
  {
   "cell_type": "markdown",
   "metadata": {},
   "source": [
    "(c) ***Your answer goes here:***\n",
    "\n",
    "There are more data points in testing set is a person. The the classifier is not a good metric because classifier will tend to be biased and classify data instances from \"A person\" to \"not a person\". I suggest we also use f1 score, which takes account into precision and recall."
   ]
  },
  {
   "cell_type": "markdown",
   "metadata": {},
   "source": [
    "## 2. Exploring Different Models for Classification"
   ]
  },
  {
   "cell_type": "markdown",
   "metadata": {},
   "source": [
    "### ========== Question 2.1 --- [3 marks] ==========\n",
    "\n",
    "As always, we wish to start with a very simple baseline classifier, which will provide a sanity check when training more advanced models.\n",
    "\n",
    "&nbsp;&nbsp;**(a)** [Text] Define a baseline classifier (indicate why you chose it/why it is relevant).<br>\n",
    "&nbsp;&nbsp;**(b)** [Code] Report the accuracy such a classifier would achieve on the testing set."
   ]
  },
  {
   "cell_type": "markdown",
   "metadata": {},
   "source": [
    "(a) ***Your answer goes here:***\n",
    "\n",
    "a baseline classifier is predicting predict every data point to the class the has the highest frequency.\n",
    "In this case, it will choose the class 0(not a person) for evey data instance."
   ]
  },
  {
   "cell_type": "code",
   "execution_count": 8,
   "metadata": {},
   "outputs": [
    {
     "data": {
      "text/plain": [
       "0.5265049415992812"
      ]
     },
     "execution_count": 8,
     "metadata": {},
     "output_type": "execute_result"
    }
   ],
   "source": [
    "# (b) # Your Code goes here:\n",
    "y_tst.shape\n",
    "accuracy_score(y_tst,np.zeros(1113,))"
   ]
  },
  {
   "cell_type": "markdown",
   "metadata": {},
   "source": [
    "### ========== Question 2.2 --- [9 marks] ==========\n",
    "<a id='question2_2'></a>\n",
    "Let us now train a more advanced Model.\n",
    "\n",
    "&nbsp;&nbsp;**(a)** [Code] Train a [`LogisticRegression`](http://scikit-learn.org/0.19/modules/generated/sklearn.linear_model.LogisticRegression.html) classifier using default settings, except for the `solver` parameter which you should set to `lbfgs`. Report the classification accuracy score on the testing set.<br>\n",
    "&nbsp;&nbsp;**(b)** [Text] Comment on the performance of the Logistic Regressor in comparison with the baseline model.<br>\n",
    "&nbsp;&nbsp;**(c)** [Code] Visualise the errors using an appropriate method to justify your answer to (c).<br>\n",
    "&nbsp;&nbsp;**(d)** [Text] Referring back to the observations in [Q1.1](#question1_1), and assuming that we know that the features should be informative, why do you think this may be happening?<br>"
   ]
  },
  {
   "cell_type": "code",
   "execution_count": 9,
   "metadata": {},
   "outputs": [
    {
     "name": "stdout",
     "output_type": "stream",
     "text": [
      "Classification accuracy on test set: 0.527\n"
     ]
    }
   ],
   "source": [
    "# (a) # Your Code goes here:\n",
    "lr = LogisticRegression(solver='lbfgs')\n",
    "lr.fit(X_tr, y_tr)\n",
    "print('Classification accuracy on test set: {:.3f}'.format(lr.score(X_tst, y_tst)))"
   ]
  },
  {
   "cell_type": "markdown",
   "metadata": {},
   "source": [
    "(b) ***Your answer goes here:***\n",
    "\n",
    "The performance of Logistic Regressor is quite poor, which has roughly the same accuracy as baseline model.\n",
    "\n",
    "This means that ogistic classifier is simply choosing the class with highest frequency as it is affected by class imbalance. "
   ]
  },
  {
   "cell_type": "code",
   "execution_count": 10,
   "metadata": {},
   "outputs": [
    {
     "data": {
      "image/png": "[encoded data removed]",
      "text/plain": [
       "<Figure size 432x288 with 2 Axes>"
      ]
     },
     "metadata": {
      "needs_background": "light"
     },
     "output_type": "display_data"
    }
   ],
   "source": [
    "# (c) # Your Code goes here:\n",
    "cm = confusion_matrix(y_tst,lr.predict(X_tst))\n",
    "cm_norm = cm/cm.sum(axis=1)[:, np.newaxis]\n",
    "plot_confusion_matrix(cm_norm, classes=lr.classes_, title = 'LogisticRegression')"
   ]
  },
  {
   "cell_type": "markdown",
   "metadata": {},
   "source": [
    "(d) ***Your answer goes here:***\n",
    "\n",
    "Because the data points from both classes are mixed together. \n",
    "They have similar \"mean\" and \"standard deviation\" values. \n",
    "Their \"mean\" and \"standard deviation\" values are close to zero.\n",
    "\n",
    "for a logistic classifier, we have:\n",
    "\n",
    "y = wx+w0\n",
    "\n",
    "f(y) = 1/(1+e^(-y))\n",
    "\n",
    "where x is a data instance, w is weight and w0 is offset. f(y) is probability.\n",
    "\n",
    "given that every element of x is close to zero, wx is close to zero and given w0 is fixed , all the data instances have similar y value. Therefore, they have similar f(y) values. Therefor, they are all classified into the same class.\n",
    "\n",
    "Also we can say that, because data points are mixed together , so that there is not a clear line between two classes."
   ]
  },
  {
   "cell_type": "markdown",
   "metadata": {},
   "source": [
    "### ========== Question 2.3 --- [13 marks] ==========\n",
    "\n",
    "You should have noticed that the performance of the above logistic regressor is less than satisfactory. Let us attempt to fix this by preprocessing the inputs `X`.\n",
    "\n",
    "&nbsp;&nbsp;**(a)** [Text] Before applying the processing, comment on whether you should base any parameters of the preprocessing on the training or testing set or both and what repurcussions this may have.<br>\n",
    "&nbsp;&nbsp;**(b)** [Code] Following from your observations in [Q2.2.(e)](#question2_2), process the features in both the **training** as well as the **testing** sets accordingly. *Hint: There is an sklearn [package](http://scikit-learn.org/0.19/modules/preprocessing.html) which may be very useful.* <br>\n",
    "&nbsp;&nbsp;**(c)** [Code] Now Train a Logistic Regressor on the transformed training set, keeping the same settings as in the previous question. Report the classification accuracy on the testing set and visualise the errors in a similar way to [Q2.2(d)](#question2_2). <br>\n",
    "&nbsp;&nbsp;**(d)** [Text] Finally comment on the comparative performance with [Q2.2](#question2_2)."
   ]
  },
  {
   "cell_type": "markdown",
   "metadata": {},
   "source": [
    "(a) ***Your answer goes here:***\n",
    "\n",
    "\n",
    "Parameters should be based on only training set, this is because we should only construct our model on training set and in reality we do not know any information in regards of testing set. \n",
    "\n",
    "Many elements used in the objective function of a learning algorithm assume that all features are centered around zero and have variance in the same order.classifier may perform better.\n",
    "\n",
    "One repurcussion may be: if the structure of testing set is different from training set e.g. they have different mean and variance. Then the data is not centered around zero and there variance is not in the same order."
   ]
  },
  {
   "cell_type": "code",
   "execution_count": 11,
   "metadata": {},
   "outputs": [],
   "source": [
    "# (b) # Your Code goes here:\n",
    "\n",
    "ss_C = StandardScaler()\n",
    "ss_C.fit(X_tr)\n",
    "X_tr = ss_C.transform(X_tr)\n",
    "X_tst = ss_C.transform(X_tst)"
   ]
  },
  {
   "cell_type": "code",
   "execution_count": 12,
   "metadata": {},
   "outputs": [
    {
     "name": "stdout",
     "output_type": "stream",
     "text": [
      "Classification accuracy on test set: 0.643\n"
     ]
    },
    {
     "data": {
      "image/png": "[encoded data removed]",
      "text/plain": [
       "<Figure size 432x288 with 2 Axes>"
      ]
     },
     "metadata": {
      "needs_background": "light"
     },
     "output_type": "display_data"
    }
   ],
   "source": [
    "# (c) # Your Code goes here:\n",
    "lr = LogisticRegression(solver='lbfgs')\n",
    "lr.fit(X_tr, y_tr)\n",
    "print('Classification accuracy on test set: {:.3f}'.format(lr.score(X_tst, y_tst)))\n",
    "\n",
    "cm = confusion_matrix(y_tst,lr.predict(X_tst))\n",
    "cm_norm = cm/cm.sum(axis=1)[:, np.newaxis]\n",
    "plot_confusion_matrix(cm_norm, classes=lr.classes_, title = 'LogisticRegression')"
   ]
  },
  {
   "cell_type": "markdown",
   "metadata": {},
   "source": [
    "(d) ***Your answer goes here:***\n",
    "\n",
    "The accuracy increases by 10%.\n",
    "\n",
    "Previously, all instances from class 0 are predicted into class 0, however, all instances from class 1 are predicted into class 0 as well.\n",
    "\n",
    "At this time, 69.6% of the instances from class 0 are predicted into class 0 and 31.4% of instances from class 0 are classified into class 1. 40.4% percent of data instances from class 0 are predicted into class 0 whereas 59.6% of the instances from class 1 are classified into class 1. The overall accuracy improved by 10%"
   ]
  },
  {
   "cell_type": "markdown",
   "metadata": {},
   "source": [
    "### ========== Question 2.4 --- [18 marks] ==========\n",
    "<a id='question2_4'></a>\n",
    "So far we have used default settings for training the logistic regression classifier. Now we want to optimise the hyperparameters of the classifier, namely the regularisation parameter `C`. We will do this through [K-fold cross-validation](http://scikit-learn.org/0.19/modules/generated/sklearn.model_selection.KFold.html). You should familiarise yourself with the interpretation of the `C` parameter.\n",
    "\n",
    "&nbsp;&nbsp;**(a)** [Text] Why do we use cross-validation to optimise the hyper-parameters, rather than using the test-set?<br>\n",
    "&nbsp;&nbsp;**(b)** [Code] Load the datasets `Images_B_Train.csv` and `Images_B_Test.csv` (this ensures everyone is using the same pre-processed data). Again, extract the relevant columns (`dim1` through `dim500` and the `is_person` class) from each dataset, and store into `X_train`/`X_test` and `y_train`/`y_test` variables.<br>\n",
    "&nbsp;&nbsp;**(c)** [Code] Using Cross-Validation on the **Training** set (a 5-fold split should be sufficient: set `shuffle=True` and `random_state=0`), perform a search for the best value of `C` in the range `1e-5` to `1e5` (*Hint: the KFold [split](http://scikit-learn.org/0.19/modules/generated/sklearn.model_selection.KFold.html#sklearn.model_selection.KFold.split) method will come in handy*). Keep track of the validation-set accuracy per-fold for each value of `C` in an array. Think carefully about the best way to cover the search space: i.e. the step-lengths and number of steps.<br>\n",
    "&nbsp;&nbsp;**(d)** [Code] Plot the mean and standard-deviation (across folds) of the accuracy as a function of `C`. *Hint: you may find the matplotlib's [errorbar](https://matplotlib.org/2.2.3/api/_as_gen/matplotlib.pyplot.errorbar.html) function useful. Be careful to use the correct scale on the x-axis.* Using the mean values, report the regularisation parameter with the best accuracy (alongside its accuracy): *N.B. Do not pick the optimal value \"by hand\", instead use an appropriate numpy function*.<br>\n",
    "&nbsp;&nbsp;**(e)** [Text] Comment on the output, especially as regards the effect of the regularisation parameter (you should write between 3 and 4 sentences).<br>\n",
    "&nbsp;&nbsp;**(f)** [Code] By using the optimal value (i.e. the one that yields the highest average K-Fold classification accuracy) train a new `LogisticRegression` classifier and report the classification accuracy on the validation set.\n",
    "\n",
    "**N.B.: Keep track of the KFold object you created as we will keep using it**"
   ]
  },
  {
   "cell_type": "markdown",
   "metadata": {},
   "source": [
    "(a) ***Your answer goes here:***\n",
    "\n",
    "\n",
    "because we only run test set for once，for evaluation. \n",
    "If we use cross-validation, we are allowed to split the training set into several folds. \n",
    "\n",
    "Each time we train the classifier, we pick one fold for validation and other four for training. \n",
    "\n",
    "Thus we have several accuracy values and we can compute the average. \n",
    "\n",
    "This prevents overfitting when we are testing the model.\n",
    "\n",
    "If we use testing data to do optimisation on testing set,we find that the model selected overfits testing set.\n",
    "\n",
    "Accuracy is more reliable because the classifier is tested on more data. \n"
   ]
  },
  {
   "cell_type": "code",
   "execution_count": 13,
   "metadata": {},
   "outputs": [],
   "source": [
    "# (b) # Your Code goes here:\n",
    "data_path = os.path.join(os.getcwd(), 'datasets', 'Images_B_Train.csv')\n",
    "Images_B_Train = pd.read_csv(data_path, delimiter = ',')\n",
    "Images_B_Train = Images_B_Train.drop(['imgId','is_aeroplane', 'is_bicycle', 'is_bird', 'is_boat', 'is_bottle',\n",
    "       'is_bus', 'is_car', 'is_cat', 'is_chair', 'is_cow',\n",
    "       'is_diningtable', 'is_dog', 'is_horse', 'is_motorbike','is_pottedplant', 'is_sheep', 'is_sofa',\n",
    "       'is_tvmonitor'],axis = 1)\n",
    "\n",
    "data_path = os.path.join(os.getcwd(), 'datasets', 'Images_B_Test.csv')\n",
    "Images_B_Test = pd.read_csv(data_path, delimiter = ',')\n",
    "Images_B_Test = pd.read_csv(data_path)\n",
    "Images_B_Test = Images_B_Test.drop(['imgId','is_aeroplane', 'is_bicycle', 'is_bird', 'is_boat', 'is_bottle',\n",
    "       'is_bus', 'is_car', 'is_cat', 'is_chair', 'is_cow',\n",
    "       'is_diningtable', 'is_dog', 'is_horse', 'is_motorbike','is_pottedplant', 'is_sheep', 'is_sofa',\n",
    "       'is_tvmonitor'],axis = 1)\n",
    "\n",
    "X_train = Images_B_Train.drop(\"is_person\",axis = 1)\n",
    "X_test = Images_B_Test.drop(\"is_person\",axis = 1)\n",
    "y_train = Images_B_Train[\"is_person\"]\n",
    "y_test = Images_B_Test[\"is_person\"]"
   ]
  },
  {
   "cell_type": "code",
   "execution_count": 14,
   "metadata": {
    "scrolled": false
   },
   "outputs": [],
   "source": [
    "# (c) # Your Code goes here:\n",
    "amount = Images_B_Train.shape[0]\n",
    "kf = KFold(n_splits=5,shuffle=True, random_state=0)\n",
    "\n",
    "cValues = 100\n",
    "valueArrays = np.logspace(-5,5,cValues)\n",
    "\n",
    "countMatrix = np.zeros([5,cValues])\n",
    "\n",
    "\n",
    "cIndex = 0\n",
    "\n",
    "   \n",
    "for c in valueArrays:\n",
    "    theClassifier = LogisticRegression(solver='lbfgs', C=c)\n",
    "    result = cross_val_score(  theClassifier  ,  X_train  ,  y_train  ,cv = kf)    \n",
    "    countMatrix[:,cIndex] = (np.transpose(result))\n",
    "    cIndex+=1 \n",
    "    \n"
   ]
  },
  {
   "cell_type": "code",
   "execution_count": 15,
   "metadata": {},
   "outputs": [
    {
     "name": "stdout",
     "output_type": "stream",
     "text": [
      "[0.56281075 0.58049468 0.5948282  0.61154949 0.62349979 0.64070183\n",
      " 0.6483482  0.65694237 0.66314419 0.66505464 0.66839479 0.67317719\n",
      " 0.67604344 0.67938815 0.67938815 0.68033824 0.68511494 0.68415686\n",
      " 0.68654692 0.69228169 0.6999292  0.700885   0.70375581 0.70662776\n",
      " 0.70615158 0.7051935  0.70137146 0.69755398 0.69421384 0.69039065\n",
      " 0.68800516 0.68752898 0.68227381 0.68084183 0.67511391 0.66603784\n",
      " 0.66603442 0.66507748 0.66173733 0.66460244 0.6607804  0.65887109\n",
      " 0.65457172 0.65361707 0.65409553 0.65122815 0.65075082 0.64931998\n",
      " 0.64692992 0.64692992 0.64597641 0.64549794 0.64406482 0.64501947\n",
      " 0.64454328 0.64310788 0.64358635 0.64406482 0.64406367 0.64358521\n",
      " 0.64358521 0.64358749 0.64263055 0.64358749 0.64215208 0.64310902\n",
      " 0.64215208 0.64167476 0.64263055 0.64215208 0.64310902 0.64215208\n",
      " 0.64263055 0.64167476 0.64358521 0.64262941 0.64262941 0.64167361\n",
      " 0.64167361 0.64215208 0.64262941 0.64263055 0.64262941 0.64215322\n",
      " 0.64263055 0.6416759  0.64119629 0.64167361 0.64215322 0.64215094\n",
      " 0.64215208 0.64215208 0.64262941 0.64310788 0.64263055 0.64263055\n",
      " 0.64262941 0.64263055 0.64215322 0.64263169]\n",
      "[0.02828593 0.02880179 0.02552986 0.01934264 0.01626543 0.01814836\n",
      " 0.01353703 0.01143971 0.0206315  0.02345799 0.02332518 0.02219341\n",
      " 0.02581887 0.02812885 0.0295531  0.03306903 0.03259168 0.0338893\n",
      " 0.03417862 0.03255903 0.03406627 0.03415565 0.027349   0.02713484\n",
      " 0.02425887 0.0284714  0.02704614 0.02430602 0.02226293 0.01946255\n",
      " 0.01676961 0.01185695 0.01180654 0.0093535  0.00815584 0.01227791\n",
      " 0.01385876 0.01259354 0.01249495 0.0101146  0.01091019 0.01189603\n",
      " 0.01325508 0.01368419 0.01292946 0.01209127 0.01230278 0.01397151\n",
      " 0.01350093 0.01298058 0.01474133 0.01356348 0.01432655 0.01271118\n",
      " 0.01360449 0.01235473 0.01286013 0.01358564 0.01256779 0.01187649\n",
      " 0.01234899 0.01426171 0.01382238 0.01473319 0.01365739 0.01405075\n",
      " 0.01365739 0.01442505 0.01382238 0.0131449  0.01405075 0.01365739\n",
      " 0.01382238 0.01442505 0.01315307 0.0129147  0.0129147  0.01295364\n",
      " 0.01295364 0.01365739 0.01376857 0.01382238 0.01376857 0.01459701\n",
      " 0.01382238 0.01478792 0.013744   0.01295364 0.01459701 0.01308826\n",
      " 0.0131449  0.0131449  0.01376857 0.01391584 0.01382238 0.01382238\n",
      " 0.01376857 0.01382238 0.01459701 0.01482885]\n",
      "best value is:\n",
      "23\n",
      "0.00210490414451202\n"
     ]
    },
    {
     "data": {
      "image/png": "[encoded data removed]",
      "text/plain": [
       "<Figure size 432x288 with 1 Axes>"
      ]
     },
     "metadata": {
      "needs_background": "light"
     },
     "output_type": "display_data"
    }
   ],
   "source": [
    "# (d) # Your Code goes here:\n",
    "y= np.mean(countMatrix,axis = 0)\n",
    "print(y)\n",
    "yerr = np.std(countMatrix,axis=0) \n",
    "print(yerr)\n",
    "errorbar(x=valueArrays,y=y,yerr=yerr)\n",
    "plt.xscale('log')\n",
    "print(\"best value is:\")\n",
    "print(np.argmax(y))\n",
    "print(valueArrays[np.argmax(y)])"
   ]
  },
  {
   "cell_type": "markdown",
   "metadata": {},
   "source": [
    "(e) ***Your answer goes here:***\n",
    "\n",
    "C is the inverse of regularisation strength.\n",
    "\n",
    "This may be because when regularisation strength is too strong at the beginning(10^-4), the weight of some parameter is reduced to tiny and does not affect the outcome therefore the accuracy is poor. \n",
    "\n",
    "Then as C increases, the accuracy raises to its height(around 10^-2), after this, accuracy decreases and the curve begins to flatten at c=10^0.\n",
    "\n",
    "This may be because regularisation parameter(= 1/c) is to small to affect weights."
   ]
  },
  {
   "cell_type": "code",
   "execution_count": 16,
   "metadata": {},
   "outputs": [
    {
     "name": "stdout",
     "output_type": "stream",
     "text": [
      "0.6999101527403414\n"
     ]
    }
   ],
   "source": [
    "# (f) # Your Code goes here:\n",
    "theClassifier = LogisticRegression(solver='lbfgs', C=0.00212095088792)\n",
    "theClassifier.fit(X_train,y_train)\n",
    "prediction = theClassifier.predict(X_test)\n",
    "print(  accuracy_score(y_test,prediction   ) )"
   ]
  },
  {
   "cell_type": "markdown",
   "metadata": {},
   "source": [
    "### ========== Question 2.5 --- (LEVEL 11) --- [12 marks] ==========\n",
    "\n",
    "Let us attempt to validate the importance of the various features for classification. We could do this like we did for linear regression by looking at the magnitude of the weights. However, in this case, we will use the [`RandomForestClassifier`](http://scikit-learn.org/0.19/modules/generated/sklearn.ensemble.RandomForestClassifier.html) to give us a ranking over features.\n",
    "\n",
    "&nbsp;&nbsp;**(a)** [Text] How can we use the Random-Forest to get this kind of analysis? *Hint: look at the `feature_importances` property in the SKLearn implementation.*<br>\n",
    "&nbsp;&nbsp;**(b)** [Code] Initialise a random forest classifier and fit the model by using training data only and 500 trees (i.e. `n_estimators=500`). Set `random_state=42` to ensure reproducible results and `criterion=entropy` but leave all other parameters at their default value. Report the accuracy score on both the training and testing sets.<br>\n",
    "&nbsp;&nbsp;**(c)** [Text] Comment on the discrepancy between training and testing accuracies.<br>\n",
    "&nbsp;&nbsp;**(d)** [Code] By using the random forest model display the names of the 10 most important features (in descending order of importance).<br>\n"
   ]
  },
  {
   "cell_type": "markdown",
   "metadata": {},
   "source": [
    "(a) ***Your answer goes here:***"
   ]
  },
  {
   "cell_type": "code",
   "execution_count": 17,
   "metadata": {},
   "outputs": [],
   "source": [
    "# (b) # Your Code goes here:\n"
   ]
  },
  {
   "cell_type": "markdown",
   "metadata": {},
   "source": [
    "(c) ***Your answer goes here:***"
   ]
  },
  {
   "cell_type": "code",
   "execution_count": 18,
   "metadata": {},
   "outputs": [],
   "source": [
    "# (d) # Your Code goes here:"
   ]
  },
  {
   "cell_type": "markdown",
   "metadata": {},
   "source": [
    "### ========== Question 2.6 --- [12 marks] ==========\n",
    "\n",
    "We would like now to explore another form of classifier: the Support Vector Machine. A key decision in training SVM's is what kind of kernel to use. We will explore with three kernel types: linear, radial-basis-functions and polynomials. To get a feel for each we will first visualise typical decision boundaries for each of these variants. To do so, we have to simplify our problem to two-dimensional input (to allow us to visualise it).\n",
    "\n",
    "&nbsp;&nbsp;**(a)** [Code] Using the training set only, create a training `X` matrix with only the `dim21` and `dim51` columns. ***N.B.*** *Python (and numpy) use zero-based indexing*. Then train three distinct classifiers on this 2D data. Use a `linear` kernel for one, an `rbf` kernel for another (set `gamma='auto'`) and a second order (`degree`) polynomial kernel for the other. Set `C=1` in all cases. Using the function `plot_SVM_DecisionBoundary` from our own library (it exists under the `plotters` module), plot the decision boundary for all three classifiers.<br>\n",
    "&nbsp;&nbsp;**(b)** [Text] Explain (intuitively) the shape of the decision boundary for each classifier (i.e. comment on what aspect of the kernel gives rise to it). Use this to comment on how it relates to classification accuracy."
   ]
  },
  {
   "cell_type": "code",
   "execution_count": 19,
   "metadata": {
    "scrolled": false
   },
   "outputs": [
    {
     "name": "stdout",
     "output_type": "stream",
     "text": [
      "Linear SVC classification accuracy on test set: 0.606\n",
      "Linear SVC classification accuracy on test set: 0.628\n",
      "Linear SVC classification accuracy on test set: 0.562\n"
     ]
    },
    {
     "data": {
      "image/png": "[encoded data removed]",
      "text/plain": [
       "<Figure size 1080x360 with 3 Axes>"
      ]
     },
     "metadata": {},
     "output_type": "display_data"
    }
   ],
   "source": [
    "# (a) # Your Code goes here:\n",
    "X = Images_B_Train[[\"dim21\",\"dim51\"]]\n",
    "y = Images_B_Train[\"is_person\"]\n",
    "\n",
    "x1 = Images_B_Test[[\"dim21\",\"dim51\"]]\n",
    "y1 = Images_B_Test[\"is_person\"]\n",
    "\n",
    "svc_linear = SVC(kernel='linear',C=1)\n",
    "svc_linear.fit(X, y)\n",
    "print('Linear SVC classification accuracy on test set: {:.3f}'.format(svc_linear.score(x1, y1)))\n",
    "svc_rbf = SVC(kernel='rbf',gamma='auto',C=1)\n",
    "svc_rbf.fit(X, y)\n",
    "print('Linear SVC classification accuracy on test set: {:.3f}'.format(svc_rbf.score(x1, y1)))\n",
    "svc_poly = SVC(kernel='poly',degree=2,C=1)\n",
    "svc_poly.fit(X, y)\n",
    "print('Linear SVC classification accuracy on test set: {:.3f}'.format(svc_poly.score(x1, y1)))\n",
    "\n",
    "\n",
    "# create classifier list\n",
    "classifiers = []\n",
    "classifiers.append(svc_linear)\n",
    "classifiers.append(svc_rbf)\n",
    "classifiers.append(svc_poly)\n",
    "\n",
    "\n",
    "# Plot results\n",
    "plot_SVM_DecisionBoundary(classifiers,np.array(X),np.array(y), ['svc_linear','svc_rbf', 'svc_poly'],[\"dim21\",\"dim51\"])"
   ]
  },
  {
   "cell_type": "markdown",
   "metadata": {},
   "source": [
    "(b) ***Your answer goes here:***\n",
    "\n",
    "From the graph, I can see that the center of cluster of brown points is at the middle of graph. \n",
    "The center of cluster of blue points at the bottom left of the graph relative to blue center.\n",
    "\n",
    "svc_poly decision boundary fits the data badly because it includes most of blue and brown points with in the circle drawn. Also, this classifier transforms data into a higher dimension (3 dimensions in this case, aX^2+bX+C) and draw a straight decision line in that dimension.\n",
    "\n",
    "svc_linear decision boundary fits the data better because it includes most of blue and a considerable amount brown points(but not as many as SVC_poly) on the blue side of curve. from this svc_linear classifier, We get a decision boundary in 2 dimensions.\n",
    "\n",
    "\n",
    "svc_rbf decision boundary fits the data better than svc_linear and svc_poly because it includes most of blue and a little amount brown points(but not as many as SVC_poly) within the blue side of curve. This is because its decision boundary is concave(its kernel is Gaussian). However, the SVC-rbf can still perform better if its Gamma value optimised.\n",
    "\n",
    "\n"
   ]
  },
  {
   "cell_type": "markdown",
   "metadata": {},
   "source": [
    "### ========== Question 2.7 --- [14 marks] ==========\n",
    "Let us now explore the polynomial SVM further. We will go back to using the **FULL** dataset (i.e. the one we loaded in [Question 2.4](#question2_4)). There are two parameters we need to tune: the order of the polynomial and the regression coefficient. We will do this by way of a grid-search over parameters. To save computational time, we will use a constrained search space:\n",
    "\n",
    "&nbsp;&nbsp;**(a)** [Code] Define an appropriate search space for `C` in the range `1e-2` to `1e3` using 6-steps (think about the step-size), and for the `degree` in the range 1 through 5 inclusive (5 steps). Using the `K-fold` iterator from [Q2.5](#question2_4), optimise the values for `C` and the `degree` in the above specified range. Keep track of the mean cross-validation accuracy for each parameter combination.<br>\n",
    "&nbsp;&nbsp;**(b)** [Code] Using a seaborn heatmap, plot the fold-averaged classification accuracy for each parameter combination (label axes appropriately). Finally also report the combination of the parameters which yielded the best accuracy.<br>\n",
    "&nbsp;&nbsp;**(c)** [Code] Retrain the (polynomial-kernel) SVC using the optimal parameters found in **(b)** and report its accuracy on the **Testing** set.<br>\n",
    "&nbsp;&nbsp;**(d)** [Text] Explain the results relative to the Logistic Classifier."
   ]
  },
  {
   "cell_type": "code",
   "execution_count": 20,
   "metadata": {},
   "outputs": [],
   "source": [
    "# (a) # Your Code goes here:\n",
    "valueArrays = np.logspace(-2,3,6)\n",
    "degree = [1,2,3,4,5]\n",
    "\n",
    "#print(len(valueArrays))\n",
    "#print(len(degree))\n",
    "storage = np.zeros((len(valueArrays),len(degree)))\n",
    "#print(storage.shape)\n",
    "row = 0\n",
    "col = 0\n",
    "for value in valueArrays:\n",
    "    for deg in degree:\n",
    "        svc_poly = SVC(kernel='poly',degree=deg,C=value)\n",
    "        result = cross_val_score(  svc_poly  ,  X_train  ,  y_train  ,cv = kf)         \n",
    "        storage[row,col] = np.mean(result)\n",
    "        col+=1\n",
    "    row+=1\n",
    "    col =0"
   ]
  },
  {
   "cell_type": "code",
   "execution_count": 21,
   "metadata": {},
   "outputs": [
    {
     "name": "stdout",
     "output_type": "stream",
     "text": [
      "[[0.55278346 0.55087415 0.55087415 0.55087415 0.55039568]\n",
      " [0.68368638 0.57380982 0.56042754 0.55421544 0.55278231]\n",
      " [0.69277158 0.66840278 0.67651848 0.62350664 0.60297473]\n",
      " [0.66651174 0.66123717 0.6789291  0.62924484 0.58768885]\n",
      " [0.6421498  0.66123717 0.67845177 0.63020064 0.5929383 ]\n",
      " [0.63354649 0.66123717 0.67845177 0.63020064 0.5929383 ]]\n"
     ]
    },
    {
     "data": {
      "text/plain": [
       "<matplotlib.axes._subplots.AxesSubplot at 0x110294278>"
      ]
     },
     "execution_count": 21,
     "metadata": {},
     "output_type": "execute_result"
    },
    {
     "data": {
      "image/png": "[encoded data removed]",
      "text/plain": [
       "<Figure size 432x288 with 2 Axes>"
      ]
     },
     "metadata": {
      "needs_background": "light"
     },
     "output_type": "display_data"
    }
   ],
   "source": [
    "# (b) # Your Code goes here:\n",
    "print(storage)\n",
    "sns.heatmap(storage,xticklabels=degree,yticklabels=valueArrays)"
   ]
  },
  {
   "cell_type": "code",
   "execution_count": 22,
   "metadata": {},
   "outputs": [
    {
     "name": "stdout",
     "output_type": "stream",
     "text": [
      "degree 1\n",
      "C 1.0\n",
      "0.6891284815813118\n"
     ]
    }
   ],
   "source": [
    "# (c) # Your Code goes here:\n",
    "result  = storage.argmax() \n",
    "row  = result/5 \n",
    "col = result%5 \n",
    "#print(row,col)\n",
    "#print(valueArrays[int(row)])\n",
    "#print(degree[int(col)])\n",
    "#storage[int(row),int(col)]\n",
    "\n",
    "svc_poly = SVC(kernel='poly',degree=degree[int(col)],C=valueArrays[int(row)],random_state=0)\n",
    "print(\"degree\",degree[int(col)])\n",
    "print(\"C\",valueArrays[int(row)])\n",
    "\n",
    "svc_poly.fit(X_train,y_train)\n",
    "prediction = svc_poly.predict(X_test)\n",
    "print(accuracy_score(y_test,prediction))"
   ]
  },
  {
   "cell_type": "markdown",
   "metadata": {},
   "source": [
    "(d) ***Your answer goes here:***\n",
    "\n",
    "The accuracy from both classifiers is similiar however they are not identical.\n",
    "The best degree of poly kernel is 1, which means this is just a linear SVM.\n",
    "They are similar because they both use linear model. This means Poly SVM and logistic Regression are doing the same thing.\n",
    "\n"
   ]
  },
  {
   "cell_type": "markdown",
   "metadata": {},
   "source": [
    "### ========== Question 2.8 --- (LEVEL 11) --- [10 marks] ==========\n",
    "\n",
    "Answer the followign theoretical questions:\n",
    "\n",
    "&nbsp;&nbsp;**(a)** [Text] Is a Logistic Regression Classifier equivalent to an SVM with a Linear Kernel? why or why not?<br>\n",
    "&nbsp;&nbsp;**(b)** [Text] In the previous question we optimised the `degree` and regularisation `C` simultaneously. By looking at the heatmap you plotted, can you explain the motivation behind this? That is, what would happen if we were to estimate the optimum along each dimension independently? Can you imagine a case where an independent search along each of the dimensions (known as coordinate-descent) would be guaranteed to yield the optimum result?<br>\n",
    "&nbsp;&nbsp;**(c)** [Text] Despite having a hold-out testing set, we used cross-validation for optimising the hyper-parameters (only using the testing set for comparing models). Why is this? Also, mention an advantage and a disadvantage of using cross-validation to train hyper-parameters rather than a further train/validation split."
   ]
  },
  {
   "cell_type": "markdown",
   "metadata": {},
   "source": [
    "(a) ***Your answer goes here:***"
   ]
  },
  {
   "cell_type": "markdown",
   "metadata": {},
   "source": [
    "(b) ***Your answer goes here:***"
   ]
  },
  {
   "cell_type": "markdown",
   "metadata": {},
   "source": [
    "(c) ***Your answer goes here:***"
   ]
  },
  {
   "cell_type": "markdown",
   "metadata": {},
   "source": [
    "# Appendix\n",
    "## More information about visual words\n",
    "\n",
    "The Visual words used in this project are based on [Scale-invariant feature transforms (SIFT)](https://en.wikipedia.org/wiki/Scale-invariant_feature_transform). SIFT features are essentially local orientation histograms and capture the properties of small image regions. They possess attractive invariance properties which make them well suited for our task (you can read more about SIFT features in [D.Lowe, IJCV 60(2):91- 110, 2004](http://link.springer.com/article/10.1023/B:VISI.0000029664.99615.94), but the details don't matter for the purpose of this assignment). Each SIFT feature is a 128 dimensional vector. From each image many SIFT features are extracted, typically > 2500 per image (features are extracted at regular intervals using a 15 pixel grid and at 4 different scales). To obtain visual words a representative subset of all extracted SIFT features from all images is chosen and clustered with k-means using 500 centres (such use of the k-means algorithm will be discussed in detail during the lecture). These 500 cluster centres form our visual words. The representation of a single image is obtained by first assigning each SIFT feature extracted from the image to the appropriate cluster (i.e. we determine the visual word corresponding to each feature by picking the closest cluster centre). We then count the number of features from that image assigned to each cluster (i.e. we determine how often each visual word is present in the image). This results in a 500 dimensional count vector for each image (one dimension for each visual word). The normalized version of this count vector gives the final representation of the image (normalized means that we divide the count vector by the total number of visual words in the image, i.e. the normalized counts sum to 1 for each image)"
   ]
  }
 ],
 "metadata": {
  "anaconda-cloud": {},
  "kernelspec": {
   "display_name": "Python 3",
   "language": "python",
   "name": "python3"
  },
  "language_info": {
   "codemirror_mode": {
    "name": "ipython",
    "version": 3
   },
   "file_extension": ".py",
   "mimetype": "text/x-python",
   "name": "python",
   "nbconvert_exporter": "python",
   "pygments_lexer": "ipython3",
   "version": "3.7.0"
  }
 },
 "nbformat": 4,
 "nbformat_minor": 1
}
